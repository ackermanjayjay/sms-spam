{
  "nbformat": 4,
  "nbformat_minor": 0,
  "metadata": {
    "colab": {
      "provenance": [],
      "toc_visible": true
    },
    "kernelspec": {
      "name": "python3",
      "display_name": "Python 3"
    },
    "language_info": {
      "name": "python"
    },
    "widgets": {
      "application/vnd.jupyter.widget-state+json": {
        "c1360c68e41c4d03b99f553a7ce49bf0": {
          "model_module": "@jupyter-widgets/controls",
          "model_name": "HBoxModel",
          "model_module_version": "1.5.0",
          "state": {
            "_dom_classes": [],
            "_model_module": "@jupyter-widgets/controls",
            "_model_module_version": "1.5.0",
            "_model_name": "HBoxModel",
            "_view_count": null,
            "_view_module": "@jupyter-widgets/controls",
            "_view_module_version": "1.5.0",
            "_view_name": "HBoxView",
            "box_style": "",
            "children": [
              "IPY_MODEL_4cfa796b582746bea4d026162fbff6a9",
              "IPY_MODEL_7ad452426b904419b33c8baf4bfec65e",
              "IPY_MODEL_463c1851f2d741a2ada259448e8c4b48"
            ],
            "layout": "IPY_MODEL_326a2890446843e5ba0c49e1fd898491"
          }
        },
        "4cfa796b582746bea4d026162fbff6a9": {
          "model_module": "@jupyter-widgets/controls",
          "model_name": "HTMLModel",
          "model_module_version": "1.5.0",
          "state": {
            "_dom_classes": [],
            "_model_module": "@jupyter-widgets/controls",
            "_model_module_version": "1.5.0",
            "_model_name": "HTMLModel",
            "_view_count": null,
            "_view_module": "@jupyter-widgets/controls",
            "_view_module_version": "1.5.0",
            "_view_name": "HTMLView",
            "description": "",
            "description_tooltip": null,
            "layout": "IPY_MODEL_19ef090de5714a22b3ce15bee7f57cd9",
            "placeholder": "​",
            "style": "IPY_MODEL_f39cf6ec480e4493a37df52f3f6187e8",
            "value": "Downloading builder script: 100%"
          }
        },
        "7ad452426b904419b33c8baf4bfec65e": {
          "model_module": "@jupyter-widgets/controls",
          "model_name": "FloatProgressModel",
          "model_module_version": "1.5.0",
          "state": {
            "_dom_classes": [],
            "_model_module": "@jupyter-widgets/controls",
            "_model_module_version": "1.5.0",
            "_model_name": "FloatProgressModel",
            "_view_count": null,
            "_view_module": "@jupyter-widgets/controls",
            "_view_module_version": "1.5.0",
            "_view_name": "ProgressView",
            "bar_style": "success",
            "description": "",
            "description_tooltip": null,
            "layout": "IPY_MODEL_2a9df5fc0e6f423aaf99d2713d65aba2",
            "max": 3208,
            "min": 0,
            "orientation": "horizontal",
            "style": "IPY_MODEL_88fa3bee02a34ba7979175b657530a66",
            "value": 3208
          }
        },
        "463c1851f2d741a2ada259448e8c4b48": {
          "model_module": "@jupyter-widgets/controls",
          "model_name": "HTMLModel",
          "model_module_version": "1.5.0",
          "state": {
            "_dom_classes": [],
            "_model_module": "@jupyter-widgets/controls",
            "_model_module_version": "1.5.0",
            "_model_name": "HTMLModel",
            "_view_count": null,
            "_view_module": "@jupyter-widgets/controls",
            "_view_module_version": "1.5.0",
            "_view_name": "HTMLView",
            "description": "",
            "description_tooltip": null,
            "layout": "IPY_MODEL_242ecbe1beb34d1ab8a413bc2d25f400",
            "placeholder": "​",
            "style": "IPY_MODEL_d16739fdcf6346a19565470b59fde763",
            "value": " 3.21k/3.21k [00:00&lt;00:00, 178kB/s]"
          }
        },
        "326a2890446843e5ba0c49e1fd898491": {
          "model_module": "@jupyter-widgets/base",
          "model_name": "LayoutModel",
          "model_module_version": "1.2.0",
          "state": {
            "_model_module": "@jupyter-widgets/base",
            "_model_module_version": "1.2.0",
            "_model_name": "LayoutModel",
            "_view_count": null,
            "_view_module": "@jupyter-widgets/base",
            "_view_module_version": "1.2.0",
            "_view_name": "LayoutView",
            "align_content": null,
            "align_items": null,
            "align_self": null,
            "border": null,
            "bottom": null,
            "display": null,
            "flex": null,
            "flex_flow": null,
            "grid_area": null,
            "grid_auto_columns": null,
            "grid_auto_flow": null,
            "grid_auto_rows": null,
            "grid_column": null,
            "grid_gap": null,
            "grid_row": null,
            "grid_template_areas": null,
            "grid_template_columns": null,
            "grid_template_rows": null,
            "height": null,
            "justify_content": null,
            "justify_items": null,
            "left": null,
            "margin": null,
            "max_height": null,
            "max_width": null,
            "min_height": null,
            "min_width": null,
            "object_fit": null,
            "object_position": null,
            "order": null,
            "overflow": null,
            "overflow_x": null,
            "overflow_y": null,
            "padding": null,
            "right": null,
            "top": null,
            "visibility": null,
            "width": null
          }
        },
        "19ef090de5714a22b3ce15bee7f57cd9": {
          "model_module": "@jupyter-widgets/base",
          "model_name": "LayoutModel",
          "model_module_version": "1.2.0",
          "state": {
            "_model_module": "@jupyter-widgets/base",
            "_model_module_version": "1.2.0",
            "_model_name": "LayoutModel",
            "_view_count": null,
            "_view_module": "@jupyter-widgets/base",
            "_view_module_version": "1.2.0",
            "_view_name": "LayoutView",
            "align_content": null,
            "align_items": null,
            "align_self": null,
            "border": null,
            "bottom": null,
            "display": null,
            "flex": null,
            "flex_flow": null,
            "grid_area": null,
            "grid_auto_columns": null,
            "grid_auto_flow": null,
            "grid_auto_rows": null,
            "grid_column": null,
            "grid_gap": null,
            "grid_row": null,
            "grid_template_areas": null,
            "grid_template_columns": null,
            "grid_template_rows": null,
            "height": null,
            "justify_content": null,
            "justify_items": null,
            "left": null,
            "margin": null,
            "max_height": null,
            "max_width": null,
            "min_height": null,
            "min_width": null,
            "object_fit": null,
            "object_position": null,
            "order": null,
            "overflow": null,
            "overflow_x": null,
            "overflow_y": null,
            "padding": null,
            "right": null,
            "top": null,
            "visibility": null,
            "width": null
          }
        },
        "f39cf6ec480e4493a37df52f3f6187e8": {
          "model_module": "@jupyter-widgets/controls",
          "model_name": "DescriptionStyleModel",
          "model_module_version": "1.5.0",
          "state": {
            "_model_module": "@jupyter-widgets/controls",
            "_model_module_version": "1.5.0",
            "_model_name": "DescriptionStyleModel",
            "_view_count": null,
            "_view_module": "@jupyter-widgets/base",
            "_view_module_version": "1.2.0",
            "_view_name": "StyleView",
            "description_width": ""
          }
        },
        "2a9df5fc0e6f423aaf99d2713d65aba2": {
          "model_module": "@jupyter-widgets/base",
          "model_name": "LayoutModel",
          "model_module_version": "1.2.0",
          "state": {
            "_model_module": "@jupyter-widgets/base",
            "_model_module_version": "1.2.0",
            "_model_name": "LayoutModel",
            "_view_count": null,
            "_view_module": "@jupyter-widgets/base",
            "_view_module_version": "1.2.0",
            "_view_name": "LayoutView",
            "align_content": null,
            "align_items": null,
            "align_self": null,
            "border": null,
            "bottom": null,
            "display": null,
            "flex": null,
            "flex_flow": null,
            "grid_area": null,
            "grid_auto_columns": null,
            "grid_auto_flow": null,
            "grid_auto_rows": null,
            "grid_column": null,
            "grid_gap": null,
            "grid_row": null,
            "grid_template_areas": null,
            "grid_template_columns": null,
            "grid_template_rows": null,
            "height": null,
            "justify_content": null,
            "justify_items": null,
            "left": null,
            "margin": null,
            "max_height": null,
            "max_width": null,
            "min_height": null,
            "min_width": null,
            "object_fit": null,
            "object_position": null,
            "order": null,
            "overflow": null,
            "overflow_x": null,
            "overflow_y": null,
            "padding": null,
            "right": null,
            "top": null,
            "visibility": null,
            "width": null
          }
        },
        "88fa3bee02a34ba7979175b657530a66": {
          "model_module": "@jupyter-widgets/controls",
          "model_name": "ProgressStyleModel",
          "model_module_version": "1.5.0",
          "state": {
            "_model_module": "@jupyter-widgets/controls",
            "_model_module_version": "1.5.0",
            "_model_name": "ProgressStyleModel",
            "_view_count": null,
            "_view_module": "@jupyter-widgets/base",
            "_view_module_version": "1.2.0",
            "_view_name": "StyleView",
            "bar_color": null,
            "description_width": ""
          }
        },
        "242ecbe1beb34d1ab8a413bc2d25f400": {
          "model_module": "@jupyter-widgets/base",
          "model_name": "LayoutModel",
          "model_module_version": "1.2.0",
          "state": {
            "_model_module": "@jupyter-widgets/base",
            "_model_module_version": "1.2.0",
            "_model_name": "LayoutModel",
            "_view_count": null,
            "_view_module": "@jupyter-widgets/base",
            "_view_module_version": "1.2.0",
            "_view_name": "LayoutView",
            "align_content": null,
            "align_items": null,
            "align_self": null,
            "border": null,
            "bottom": null,
            "display": null,
            "flex": null,
            "flex_flow": null,
            "grid_area": null,
            "grid_auto_columns": null,
            "grid_auto_flow": null,
            "grid_auto_rows": null,
            "grid_column": null,
            "grid_gap": null,
            "grid_row": null,
            "grid_template_areas": null,
            "grid_template_columns": null,
            "grid_template_rows": null,
            "height": null,
            "justify_content": null,
            "justify_items": null,
            "left": null,
            "margin": null,
            "max_height": null,
            "max_width": null,
            "min_height": null,
            "min_width": null,
            "object_fit": null,
            "object_position": null,
            "order": null,
            "overflow": null,
            "overflow_x": null,
            "overflow_y": null,
            "padding": null,
            "right": null,
            "top": null,
            "visibility": null,
            "width": null
          }
        },
        "d16739fdcf6346a19565470b59fde763": {
          "model_module": "@jupyter-widgets/controls",
          "model_name": "DescriptionStyleModel",
          "model_module_version": "1.5.0",
          "state": {
            "_model_module": "@jupyter-widgets/controls",
            "_model_module_version": "1.5.0",
            "_model_name": "DescriptionStyleModel",
            "_view_count": null,
            "_view_module": "@jupyter-widgets/base",
            "_view_module_version": "1.2.0",
            "_view_name": "StyleView",
            "description_width": ""
          }
        },
        "61acc412fd1942efbecb560ba172b6c7": {
          "model_module": "@jupyter-widgets/controls",
          "model_name": "HBoxModel",
          "model_module_version": "1.5.0",
          "state": {
            "_dom_classes": [],
            "_model_module": "@jupyter-widgets/controls",
            "_model_module_version": "1.5.0",
            "_model_name": "HBoxModel",
            "_view_count": null,
            "_view_module": "@jupyter-widgets/controls",
            "_view_module_version": "1.5.0",
            "_view_name": "HBoxView",
            "box_style": "",
            "children": [
              "IPY_MODEL_6bd1f597c4fd47a78014e47c796b920d",
              "IPY_MODEL_4967aef5ee0f4901a6e33702251cc98d",
              "IPY_MODEL_f8a86003e5a14613bc9c599ac51a7669"
            ],
            "layout": "IPY_MODEL_343f94652ee1431c90aa3df0a436ddc2"
          }
        },
        "6bd1f597c4fd47a78014e47c796b920d": {
          "model_module": "@jupyter-widgets/controls",
          "model_name": "HTMLModel",
          "model_module_version": "1.5.0",
          "state": {
            "_dom_classes": [],
            "_model_module": "@jupyter-widgets/controls",
            "_model_module_version": "1.5.0",
            "_model_name": "HTMLModel",
            "_view_count": null,
            "_view_module": "@jupyter-widgets/controls",
            "_view_module_version": "1.5.0",
            "_view_name": "HTMLView",
            "description": "",
            "description_tooltip": null,
            "layout": "IPY_MODEL_34ed4441565242bbb8abaf0bea70bb2b",
            "placeholder": "​",
            "style": "IPY_MODEL_e5157ef0b94f4d46acac14e2657a8ea2",
            "value": "Downloading metadata: 100%"
          }
        },
        "4967aef5ee0f4901a6e33702251cc98d": {
          "model_module": "@jupyter-widgets/controls",
          "model_name": "FloatProgressModel",
          "model_module_version": "1.5.0",
          "state": {
            "_dom_classes": [],
            "_model_module": "@jupyter-widgets/controls",
            "_model_module_version": "1.5.0",
            "_model_name": "FloatProgressModel",
            "_view_count": null,
            "_view_module": "@jupyter-widgets/controls",
            "_view_module_version": "1.5.0",
            "_view_name": "ProgressView",
            "bar_style": "success",
            "description": "",
            "description_tooltip": null,
            "layout": "IPY_MODEL_e850292fc0a742579e252917f6c5698b",
            "max": 1687,
            "min": 0,
            "orientation": "horizontal",
            "style": "IPY_MODEL_adbe6604547946e88f8b28562049f283",
            "value": 1687
          }
        },
        "f8a86003e5a14613bc9c599ac51a7669": {
          "model_module": "@jupyter-widgets/controls",
          "model_name": "HTMLModel",
          "model_module_version": "1.5.0",
          "state": {
            "_dom_classes": [],
            "_model_module": "@jupyter-widgets/controls",
            "_model_module_version": "1.5.0",
            "_model_name": "HTMLModel",
            "_view_count": null,
            "_view_module": "@jupyter-widgets/controls",
            "_view_module_version": "1.5.0",
            "_view_name": "HTMLView",
            "description": "",
            "description_tooltip": null,
            "layout": "IPY_MODEL_e1aecc8faa254e36b8eaf0cfcd6806f4",
            "placeholder": "​",
            "style": "IPY_MODEL_b358306248e04a8a9b0d9b2995c22627",
            "value": " 1.69k/1.69k [00:00&lt;00:00, 128kB/s]"
          }
        },
        "343f94652ee1431c90aa3df0a436ddc2": {
          "model_module": "@jupyter-widgets/base",
          "model_name": "LayoutModel",
          "model_module_version": "1.2.0",
          "state": {
            "_model_module": "@jupyter-widgets/base",
            "_model_module_version": "1.2.0",
            "_model_name": "LayoutModel",
            "_view_count": null,
            "_view_module": "@jupyter-widgets/base",
            "_view_module_version": "1.2.0",
            "_view_name": "LayoutView",
            "align_content": null,
            "align_items": null,
            "align_self": null,
            "border": null,
            "bottom": null,
            "display": null,
            "flex": null,
            "flex_flow": null,
            "grid_area": null,
            "grid_auto_columns": null,
            "grid_auto_flow": null,
            "grid_auto_rows": null,
            "grid_column": null,
            "grid_gap": null,
            "grid_row": null,
            "grid_template_areas": null,
            "grid_template_columns": null,
            "grid_template_rows": null,
            "height": null,
            "justify_content": null,
            "justify_items": null,
            "left": null,
            "margin": null,
            "max_height": null,
            "max_width": null,
            "min_height": null,
            "min_width": null,
            "object_fit": null,
            "object_position": null,
            "order": null,
            "overflow": null,
            "overflow_x": null,
            "overflow_y": null,
            "padding": null,
            "right": null,
            "top": null,
            "visibility": null,
            "width": null
          }
        },
        "34ed4441565242bbb8abaf0bea70bb2b": {
          "model_module": "@jupyter-widgets/base",
          "model_name": "LayoutModel",
          "model_module_version": "1.2.0",
          "state": {
            "_model_module": "@jupyter-widgets/base",
            "_model_module_version": "1.2.0",
            "_model_name": "LayoutModel",
            "_view_count": null,
            "_view_module": "@jupyter-widgets/base",
            "_view_module_version": "1.2.0",
            "_view_name": "LayoutView",
            "align_content": null,
            "align_items": null,
            "align_self": null,
            "border": null,
            "bottom": null,
            "display": null,
            "flex": null,
            "flex_flow": null,
            "grid_area": null,
            "grid_auto_columns": null,
            "grid_auto_flow": null,
            "grid_auto_rows": null,
            "grid_column": null,
            "grid_gap": null,
            "grid_row": null,
            "grid_template_areas": null,
            "grid_template_columns": null,
            "grid_template_rows": null,
            "height": null,
            "justify_content": null,
            "justify_items": null,
            "left": null,
            "margin": null,
            "max_height": null,
            "max_width": null,
            "min_height": null,
            "min_width": null,
            "object_fit": null,
            "object_position": null,
            "order": null,
            "overflow": null,
            "overflow_x": null,
            "overflow_y": null,
            "padding": null,
            "right": null,
            "top": null,
            "visibility": null,
            "width": null
          }
        },
        "e5157ef0b94f4d46acac14e2657a8ea2": {
          "model_module": "@jupyter-widgets/controls",
          "model_name": "DescriptionStyleModel",
          "model_module_version": "1.5.0",
          "state": {
            "_model_module": "@jupyter-widgets/controls",
            "_model_module_version": "1.5.0",
            "_model_name": "DescriptionStyleModel",
            "_view_count": null,
            "_view_module": "@jupyter-widgets/base",
            "_view_module_version": "1.2.0",
            "_view_name": "StyleView",
            "description_width": ""
          }
        },
        "e850292fc0a742579e252917f6c5698b": {
          "model_module": "@jupyter-widgets/base",
          "model_name": "LayoutModel",
          "model_module_version": "1.2.0",
          "state": {
            "_model_module": "@jupyter-widgets/base",
            "_model_module_version": "1.2.0",
            "_model_name": "LayoutModel",
            "_view_count": null,
            "_view_module": "@jupyter-widgets/base",
            "_view_module_version": "1.2.0",
            "_view_name": "LayoutView",
            "align_content": null,
            "align_items": null,
            "align_self": null,
            "border": null,
            "bottom": null,
            "display": null,
            "flex": null,
            "flex_flow": null,
            "grid_area": null,
            "grid_auto_columns": null,
            "grid_auto_flow": null,
            "grid_auto_rows": null,
            "grid_column": null,
            "grid_gap": null,
            "grid_row": null,
            "grid_template_areas": null,
            "grid_template_columns": null,
            "grid_template_rows": null,
            "height": null,
            "justify_content": null,
            "justify_items": null,
            "left": null,
            "margin": null,
            "max_height": null,
            "max_width": null,
            "min_height": null,
            "min_width": null,
            "object_fit": null,
            "object_position": null,
            "order": null,
            "overflow": null,
            "overflow_x": null,
            "overflow_y": null,
            "padding": null,
            "right": null,
            "top": null,
            "visibility": null,
            "width": null
          }
        },
        "adbe6604547946e88f8b28562049f283": {
          "model_module": "@jupyter-widgets/controls",
          "model_name": "ProgressStyleModel",
          "model_module_version": "1.5.0",
          "state": {
            "_model_module": "@jupyter-widgets/controls",
            "_model_module_version": "1.5.0",
            "_model_name": "ProgressStyleModel",
            "_view_count": null,
            "_view_module": "@jupyter-widgets/base",
            "_view_module_version": "1.2.0",
            "_view_name": "StyleView",
            "bar_color": null,
            "description_width": ""
          }
        },
        "e1aecc8faa254e36b8eaf0cfcd6806f4": {
          "model_module": "@jupyter-widgets/base",
          "model_name": "LayoutModel",
          "model_module_version": "1.2.0",
          "state": {
            "_model_module": "@jupyter-widgets/base",
            "_model_module_version": "1.2.0",
            "_model_name": "LayoutModel",
            "_view_count": null,
            "_view_module": "@jupyter-widgets/base",
            "_view_module_version": "1.2.0",
            "_view_name": "LayoutView",
            "align_content": null,
            "align_items": null,
            "align_self": null,
            "border": null,
            "bottom": null,
            "display": null,
            "flex": null,
            "flex_flow": null,
            "grid_area": null,
            "grid_auto_columns": null,
            "grid_auto_flow": null,
            "grid_auto_rows": null,
            "grid_column": null,
            "grid_gap": null,
            "grid_row": null,
            "grid_template_areas": null,
            "grid_template_columns": null,
            "grid_template_rows": null,
            "height": null,
            "justify_content": null,
            "justify_items": null,
            "left": null,
            "margin": null,
            "max_height": null,
            "max_width": null,
            "min_height": null,
            "min_width": null,
            "object_fit": null,
            "object_position": null,
            "order": null,
            "overflow": null,
            "overflow_x": null,
            "overflow_y": null,
            "padding": null,
            "right": null,
            "top": null,
            "visibility": null,
            "width": null
          }
        },
        "b358306248e04a8a9b0d9b2995c22627": {
          "model_module": "@jupyter-widgets/controls",
          "model_name": "DescriptionStyleModel",
          "model_module_version": "1.5.0",
          "state": {
            "_model_module": "@jupyter-widgets/controls",
            "_model_module_version": "1.5.0",
            "_model_name": "DescriptionStyleModel",
            "_view_count": null,
            "_view_module": "@jupyter-widgets/base",
            "_view_module_version": "1.2.0",
            "_view_name": "StyleView",
            "description_width": ""
          }
        },
        "eafb6ff612aa40c9a107ec3806f97c8b": {
          "model_module": "@jupyter-widgets/controls",
          "model_name": "HBoxModel",
          "model_module_version": "1.5.0",
          "state": {
            "_dom_classes": [],
            "_model_module": "@jupyter-widgets/controls",
            "_model_module_version": "1.5.0",
            "_model_name": "HBoxModel",
            "_view_count": null,
            "_view_module": "@jupyter-widgets/controls",
            "_view_module_version": "1.5.0",
            "_view_name": "HBoxView",
            "box_style": "",
            "children": [
              "IPY_MODEL_74ec980073c3402ca571061b1169f613",
              "IPY_MODEL_49148b9595af420087349dbcd7b05cae",
              "IPY_MODEL_de57172b219c423ebcb28b7575a2e02f"
            ],
            "layout": "IPY_MODEL_1fea12b01a724a6cbdfc696d0eca3791"
          }
        },
        "74ec980073c3402ca571061b1169f613": {
          "model_module": "@jupyter-widgets/controls",
          "model_name": "HTMLModel",
          "model_module_version": "1.5.0",
          "state": {
            "_dom_classes": [],
            "_model_module": "@jupyter-widgets/controls",
            "_model_module_version": "1.5.0",
            "_model_name": "HTMLModel",
            "_view_count": null,
            "_view_module": "@jupyter-widgets/controls",
            "_view_module_version": "1.5.0",
            "_view_name": "HTMLView",
            "description": "",
            "description_tooltip": null,
            "layout": "IPY_MODEL_49a175174a054990878c7328759c722a",
            "placeholder": "​",
            "style": "IPY_MODEL_84dc78364e254f099a9cf7968693767f",
            "value": "Downloading readme: 100%"
          }
        },
        "49148b9595af420087349dbcd7b05cae": {
          "model_module": "@jupyter-widgets/controls",
          "model_name": "FloatProgressModel",
          "model_module_version": "1.5.0",
          "state": {
            "_dom_classes": [],
            "_model_module": "@jupyter-widgets/controls",
            "_model_module_version": "1.5.0",
            "_model_name": "FloatProgressModel",
            "_view_count": null,
            "_view_module": "@jupyter-widgets/controls",
            "_view_module_version": "1.5.0",
            "_view_name": "ProgressView",
            "bar_style": "success",
            "description": "",
            "description_tooltip": null,
            "layout": "IPY_MODEL_54977c61b10a4d16b0fb79a8a6a209bd",
            "max": 4872,
            "min": 0,
            "orientation": "horizontal",
            "style": "IPY_MODEL_4fc109ed262745d79591ca698874d1a8",
            "value": 4872
          }
        },
        "de57172b219c423ebcb28b7575a2e02f": {
          "model_module": "@jupyter-widgets/controls",
          "model_name": "HTMLModel",
          "model_module_version": "1.5.0",
          "state": {
            "_dom_classes": [],
            "_model_module": "@jupyter-widgets/controls",
            "_model_module_version": "1.5.0",
            "_model_name": "HTMLModel",
            "_view_count": null,
            "_view_module": "@jupyter-widgets/controls",
            "_view_module_version": "1.5.0",
            "_view_name": "HTMLView",
            "description": "",
            "description_tooltip": null,
            "layout": "IPY_MODEL_bc026578184142088e6f4b6cef27e80e",
            "placeholder": "​",
            "style": "IPY_MODEL_fbcc4ff8c7fb4cdc9fc1fb4fae4717d8",
            "value": " 4.87k/4.87k [00:00&lt;00:00, 267kB/s]"
          }
        },
        "1fea12b01a724a6cbdfc696d0eca3791": {
          "model_module": "@jupyter-widgets/base",
          "model_name": "LayoutModel",
          "model_module_version": "1.2.0",
          "state": {
            "_model_module": "@jupyter-widgets/base",
            "_model_module_version": "1.2.0",
            "_model_name": "LayoutModel",
            "_view_count": null,
            "_view_module": "@jupyter-widgets/base",
            "_view_module_version": "1.2.0",
            "_view_name": "LayoutView",
            "align_content": null,
            "align_items": null,
            "align_self": null,
            "border": null,
            "bottom": null,
            "display": null,
            "flex": null,
            "flex_flow": null,
            "grid_area": null,
            "grid_auto_columns": null,
            "grid_auto_flow": null,
            "grid_auto_rows": null,
            "grid_column": null,
            "grid_gap": null,
            "grid_row": null,
            "grid_template_areas": null,
            "grid_template_columns": null,
            "grid_template_rows": null,
            "height": null,
            "justify_content": null,
            "justify_items": null,
            "left": null,
            "margin": null,
            "max_height": null,
            "max_width": null,
            "min_height": null,
            "min_width": null,
            "object_fit": null,
            "object_position": null,
            "order": null,
            "overflow": null,
            "overflow_x": null,
            "overflow_y": null,
            "padding": null,
            "right": null,
            "top": null,
            "visibility": null,
            "width": null
          }
        },
        "49a175174a054990878c7328759c722a": {
          "model_module": "@jupyter-widgets/base",
          "model_name": "LayoutModel",
          "model_module_version": "1.2.0",
          "state": {
            "_model_module": "@jupyter-widgets/base",
            "_model_module_version": "1.2.0",
            "_model_name": "LayoutModel",
            "_view_count": null,
            "_view_module": "@jupyter-widgets/base",
            "_view_module_version": "1.2.0",
            "_view_name": "LayoutView",
            "align_content": null,
            "align_items": null,
            "align_self": null,
            "border": null,
            "bottom": null,
            "display": null,
            "flex": null,
            "flex_flow": null,
            "grid_area": null,
            "grid_auto_columns": null,
            "grid_auto_flow": null,
            "grid_auto_rows": null,
            "grid_column": null,
            "grid_gap": null,
            "grid_row": null,
            "grid_template_areas": null,
            "grid_template_columns": null,
            "grid_template_rows": null,
            "height": null,
            "justify_content": null,
            "justify_items": null,
            "left": null,
            "margin": null,
            "max_height": null,
            "max_width": null,
            "min_height": null,
            "min_width": null,
            "object_fit": null,
            "object_position": null,
            "order": null,
            "overflow": null,
            "overflow_x": null,
            "overflow_y": null,
            "padding": null,
            "right": null,
            "top": null,
            "visibility": null,
            "width": null
          }
        },
        "84dc78364e254f099a9cf7968693767f": {
          "model_module": "@jupyter-widgets/controls",
          "model_name": "DescriptionStyleModel",
          "model_module_version": "1.5.0",
          "state": {
            "_model_module": "@jupyter-widgets/controls",
            "_model_module_version": "1.5.0",
            "_model_name": "DescriptionStyleModel",
            "_view_count": null,
            "_view_module": "@jupyter-widgets/base",
            "_view_module_version": "1.2.0",
            "_view_name": "StyleView",
            "description_width": ""
          }
        },
        "54977c61b10a4d16b0fb79a8a6a209bd": {
          "model_module": "@jupyter-widgets/base",
          "model_name": "LayoutModel",
          "model_module_version": "1.2.0",
          "state": {
            "_model_module": "@jupyter-widgets/base",
            "_model_module_version": "1.2.0",
            "_model_name": "LayoutModel",
            "_view_count": null,
            "_view_module": "@jupyter-widgets/base",
            "_view_module_version": "1.2.0",
            "_view_name": "LayoutView",
            "align_content": null,
            "align_items": null,
            "align_self": null,
            "border": null,
            "bottom": null,
            "display": null,
            "flex": null,
            "flex_flow": null,
            "grid_area": null,
            "grid_auto_columns": null,
            "grid_auto_flow": null,
            "grid_auto_rows": null,
            "grid_column": null,
            "grid_gap": null,
            "grid_row": null,
            "grid_template_areas": null,
            "grid_template_columns": null,
            "grid_template_rows": null,
            "height": null,
            "justify_content": null,
            "justify_items": null,
            "left": null,
            "margin": null,
            "max_height": null,
            "max_width": null,
            "min_height": null,
            "min_width": null,
            "object_fit": null,
            "object_position": null,
            "order": null,
            "overflow": null,
            "overflow_x": null,
            "overflow_y": null,
            "padding": null,
            "right": null,
            "top": null,
            "visibility": null,
            "width": null
          }
        },
        "4fc109ed262745d79591ca698874d1a8": {
          "model_module": "@jupyter-widgets/controls",
          "model_name": "ProgressStyleModel",
          "model_module_version": "1.5.0",
          "state": {
            "_model_module": "@jupyter-widgets/controls",
            "_model_module_version": "1.5.0",
            "_model_name": "ProgressStyleModel",
            "_view_count": null,
            "_view_module": "@jupyter-widgets/base",
            "_view_module_version": "1.2.0",
            "_view_name": "StyleView",
            "bar_color": null,
            "description_width": ""
          }
        },
        "bc026578184142088e6f4b6cef27e80e": {
          "model_module": "@jupyter-widgets/base",
          "model_name": "LayoutModel",
          "model_module_version": "1.2.0",
          "state": {
            "_model_module": "@jupyter-widgets/base",
            "_model_module_version": "1.2.0",
            "_model_name": "LayoutModel",
            "_view_count": null,
            "_view_module": "@jupyter-widgets/base",
            "_view_module_version": "1.2.0",
            "_view_name": "LayoutView",
            "align_content": null,
            "align_items": null,
            "align_self": null,
            "border": null,
            "bottom": null,
            "display": null,
            "flex": null,
            "flex_flow": null,
            "grid_area": null,
            "grid_auto_columns": null,
            "grid_auto_flow": null,
            "grid_auto_rows": null,
            "grid_column": null,
            "grid_gap": null,
            "grid_row": null,
            "grid_template_areas": null,
            "grid_template_columns": null,
            "grid_template_rows": null,
            "height": null,
            "justify_content": null,
            "justify_items": null,
            "left": null,
            "margin": null,
            "max_height": null,
            "max_width": null,
            "min_height": null,
            "min_width": null,
            "object_fit": null,
            "object_position": null,
            "order": null,
            "overflow": null,
            "overflow_x": null,
            "overflow_y": null,
            "padding": null,
            "right": null,
            "top": null,
            "visibility": null,
            "width": null
          }
        },
        "fbcc4ff8c7fb4cdc9fc1fb4fae4717d8": {
          "model_module": "@jupyter-widgets/controls",
          "model_name": "DescriptionStyleModel",
          "model_module_version": "1.5.0",
          "state": {
            "_model_module": "@jupyter-widgets/controls",
            "_model_module_version": "1.5.0",
            "_model_name": "DescriptionStyleModel",
            "_view_count": null,
            "_view_module": "@jupyter-widgets/base",
            "_view_module_version": "1.2.0",
            "_view_name": "StyleView",
            "description_width": ""
          }
        },
        "e2249961426e4e52a4d9339c0461b2fb": {
          "model_module": "@jupyter-widgets/controls",
          "model_name": "HBoxModel",
          "model_module_version": "1.5.0",
          "state": {
            "_dom_classes": [],
            "_model_module": "@jupyter-widgets/controls",
            "_model_module_version": "1.5.0",
            "_model_name": "HBoxModel",
            "_view_count": null,
            "_view_module": "@jupyter-widgets/controls",
            "_view_module_version": "1.5.0",
            "_view_name": "HBoxView",
            "box_style": "",
            "children": [
              "IPY_MODEL_2dca7cea92c0438eae061e0541761ec7",
              "IPY_MODEL_b75c074494814e38b6b90e48792c9fa0",
              "IPY_MODEL_8654a70d0c9e4d9d928cf16591954e2d"
            ],
            "layout": "IPY_MODEL_f35480e204b1491bbe22ecd60f8fbfe8"
          }
        },
        "2dca7cea92c0438eae061e0541761ec7": {
          "model_module": "@jupyter-widgets/controls",
          "model_name": "HTMLModel",
          "model_module_version": "1.5.0",
          "state": {
            "_dom_classes": [],
            "_model_module": "@jupyter-widgets/controls",
            "_model_module_version": "1.5.0",
            "_model_name": "HTMLModel",
            "_view_count": null,
            "_view_module": "@jupyter-widgets/controls",
            "_view_module_version": "1.5.0",
            "_view_name": "HTMLView",
            "description": "",
            "description_tooltip": null,
            "layout": "IPY_MODEL_f9c34e3c297c4474905ba84c6fbf5adc",
            "placeholder": "​",
            "style": "IPY_MODEL_fa8bf51c0eee4115ad4846c04d191081",
            "value": "Downloading data: "
          }
        },
        "b75c074494814e38b6b90e48792c9fa0": {
          "model_module": "@jupyter-widgets/controls",
          "model_name": "FloatProgressModel",
          "model_module_version": "1.5.0",
          "state": {
            "_dom_classes": [],
            "_model_module": "@jupyter-widgets/controls",
            "_model_module_version": "1.5.0",
            "_model_name": "FloatProgressModel",
            "_view_count": null,
            "_view_module": "@jupyter-widgets/controls",
            "_view_module_version": "1.5.0",
            "_view_name": "ProgressView",
            "bar_style": "success",
            "description": "",
            "description_tooltip": null,
            "layout": "IPY_MODEL_ba3e32eec32c4b0f95e65c8460132d5c",
            "max": 1,
            "min": 0,
            "orientation": "horizontal",
            "style": "IPY_MODEL_1edf4312be3d4e62bb8a2c73249a36e9",
            "value": 1
          }
        },
        "8654a70d0c9e4d9d928cf16591954e2d": {
          "model_module": "@jupyter-widgets/controls",
          "model_name": "HTMLModel",
          "model_module_version": "1.5.0",
          "state": {
            "_dom_classes": [],
            "_model_module": "@jupyter-widgets/controls",
            "_model_module_version": "1.5.0",
            "_model_name": "HTMLModel",
            "_view_count": null,
            "_view_module": "@jupyter-widgets/controls",
            "_view_module_version": "1.5.0",
            "_view_name": "HTMLView",
            "description": "",
            "description_tooltip": null,
            "layout": "IPY_MODEL_0fb3db5da8a943b0a97bcfbd60506fba",
            "placeholder": "​",
            "style": "IPY_MODEL_914dc57c5a8745948a20d1f83ae85efe",
            "value": " 203k/? [00:00&lt;00:00, 713kB/s]"
          }
        },
        "f35480e204b1491bbe22ecd60f8fbfe8": {
          "model_module": "@jupyter-widgets/base",
          "model_name": "LayoutModel",
          "model_module_version": "1.2.0",
          "state": {
            "_model_module": "@jupyter-widgets/base",
            "_model_module_version": "1.2.0",
            "_model_name": "LayoutModel",
            "_view_count": null,
            "_view_module": "@jupyter-widgets/base",
            "_view_module_version": "1.2.0",
            "_view_name": "LayoutView",
            "align_content": null,
            "align_items": null,
            "align_self": null,
            "border": null,
            "bottom": null,
            "display": null,
            "flex": null,
            "flex_flow": null,
            "grid_area": null,
            "grid_auto_columns": null,
            "grid_auto_flow": null,
            "grid_auto_rows": null,
            "grid_column": null,
            "grid_gap": null,
            "grid_row": null,
            "grid_template_areas": null,
            "grid_template_columns": null,
            "grid_template_rows": null,
            "height": null,
            "justify_content": null,
            "justify_items": null,
            "left": null,
            "margin": null,
            "max_height": null,
            "max_width": null,
            "min_height": null,
            "min_width": null,
            "object_fit": null,
            "object_position": null,
            "order": null,
            "overflow": null,
            "overflow_x": null,
            "overflow_y": null,
            "padding": null,
            "right": null,
            "top": null,
            "visibility": null,
            "width": null
          }
        },
        "f9c34e3c297c4474905ba84c6fbf5adc": {
          "model_module": "@jupyter-widgets/base",
          "model_name": "LayoutModel",
          "model_module_version": "1.2.0",
          "state": {
            "_model_module": "@jupyter-widgets/base",
            "_model_module_version": "1.2.0",
            "_model_name": "LayoutModel",
            "_view_count": null,
            "_view_module": "@jupyter-widgets/base",
            "_view_module_version": "1.2.0",
            "_view_name": "LayoutView",
            "align_content": null,
            "align_items": null,
            "align_self": null,
            "border": null,
            "bottom": null,
            "display": null,
            "flex": null,
            "flex_flow": null,
            "grid_area": null,
            "grid_auto_columns": null,
            "grid_auto_flow": null,
            "grid_auto_rows": null,
            "grid_column": null,
            "grid_gap": null,
            "grid_row": null,
            "grid_template_areas": null,
            "grid_template_columns": null,
            "grid_template_rows": null,
            "height": null,
            "justify_content": null,
            "justify_items": null,
            "left": null,
            "margin": null,
            "max_height": null,
            "max_width": null,
            "min_height": null,
            "min_width": null,
            "object_fit": null,
            "object_position": null,
            "order": null,
            "overflow": null,
            "overflow_x": null,
            "overflow_y": null,
            "padding": null,
            "right": null,
            "top": null,
            "visibility": null,
            "width": null
          }
        },
        "fa8bf51c0eee4115ad4846c04d191081": {
          "model_module": "@jupyter-widgets/controls",
          "model_name": "DescriptionStyleModel",
          "model_module_version": "1.5.0",
          "state": {
            "_model_module": "@jupyter-widgets/controls",
            "_model_module_version": "1.5.0",
            "_model_name": "DescriptionStyleModel",
            "_view_count": null,
            "_view_module": "@jupyter-widgets/base",
            "_view_module_version": "1.2.0",
            "_view_name": "StyleView",
            "description_width": ""
          }
        },
        "ba3e32eec32c4b0f95e65c8460132d5c": {
          "model_module": "@jupyter-widgets/base",
          "model_name": "LayoutModel",
          "model_module_version": "1.2.0",
          "state": {
            "_model_module": "@jupyter-widgets/base",
            "_model_module_version": "1.2.0",
            "_model_name": "LayoutModel",
            "_view_count": null,
            "_view_module": "@jupyter-widgets/base",
            "_view_module_version": "1.2.0",
            "_view_name": "LayoutView",
            "align_content": null,
            "align_items": null,
            "align_self": null,
            "border": null,
            "bottom": null,
            "display": null,
            "flex": null,
            "flex_flow": null,
            "grid_area": null,
            "grid_auto_columns": null,
            "grid_auto_flow": null,
            "grid_auto_rows": null,
            "grid_column": null,
            "grid_gap": null,
            "grid_row": null,
            "grid_template_areas": null,
            "grid_template_columns": null,
            "grid_template_rows": null,
            "height": null,
            "justify_content": null,
            "justify_items": null,
            "left": null,
            "margin": null,
            "max_height": null,
            "max_width": null,
            "min_height": null,
            "min_width": null,
            "object_fit": null,
            "object_position": null,
            "order": null,
            "overflow": null,
            "overflow_x": null,
            "overflow_y": null,
            "padding": null,
            "right": null,
            "top": null,
            "visibility": null,
            "width": "20px"
          }
        },
        "1edf4312be3d4e62bb8a2c73249a36e9": {
          "model_module": "@jupyter-widgets/controls",
          "model_name": "ProgressStyleModel",
          "model_module_version": "1.5.0",
          "state": {
            "_model_module": "@jupyter-widgets/controls",
            "_model_module_version": "1.5.0",
            "_model_name": "ProgressStyleModel",
            "_view_count": null,
            "_view_module": "@jupyter-widgets/base",
            "_view_module_version": "1.2.0",
            "_view_name": "StyleView",
            "bar_color": null,
            "description_width": ""
          }
        },
        "0fb3db5da8a943b0a97bcfbd60506fba": {
          "model_module": "@jupyter-widgets/base",
          "model_name": "LayoutModel",
          "model_module_version": "1.2.0",
          "state": {
            "_model_module": "@jupyter-widgets/base",
            "_model_module_version": "1.2.0",
            "_model_name": "LayoutModel",
            "_view_count": null,
            "_view_module": "@jupyter-widgets/base",
            "_view_module_version": "1.2.0",
            "_view_name": "LayoutView",
            "align_content": null,
            "align_items": null,
            "align_self": null,
            "border": null,
            "bottom": null,
            "display": null,
            "flex": null,
            "flex_flow": null,
            "grid_area": null,
            "grid_auto_columns": null,
            "grid_auto_flow": null,
            "grid_auto_rows": null,
            "grid_column": null,
            "grid_gap": null,
            "grid_row": null,
            "grid_template_areas": null,
            "grid_template_columns": null,
            "grid_template_rows": null,
            "height": null,
            "justify_content": null,
            "justify_items": null,
            "left": null,
            "margin": null,
            "max_height": null,
            "max_width": null,
            "min_height": null,
            "min_width": null,
            "object_fit": null,
            "object_position": null,
            "order": null,
            "overflow": null,
            "overflow_x": null,
            "overflow_y": null,
            "padding": null,
            "right": null,
            "top": null,
            "visibility": null,
            "width": null
          }
        },
        "914dc57c5a8745948a20d1f83ae85efe": {
          "model_module": "@jupyter-widgets/controls",
          "model_name": "DescriptionStyleModel",
          "model_module_version": "1.5.0",
          "state": {
            "_model_module": "@jupyter-widgets/controls",
            "_model_module_version": "1.5.0",
            "_model_name": "DescriptionStyleModel",
            "_view_count": null,
            "_view_module": "@jupyter-widgets/base",
            "_view_module_version": "1.2.0",
            "_view_name": "StyleView",
            "description_width": ""
          }
        },
        "b2b0431d2c9147aba9247dec2f79c9b8": {
          "model_module": "@jupyter-widgets/controls",
          "model_name": "HBoxModel",
          "model_module_version": "1.5.0",
          "state": {
            "_dom_classes": [],
            "_model_module": "@jupyter-widgets/controls",
            "_model_module_version": "1.5.0",
            "_model_name": "HBoxModel",
            "_view_count": null,
            "_view_module": "@jupyter-widgets/controls",
            "_view_module_version": "1.5.0",
            "_view_name": "HBoxView",
            "box_style": "",
            "children": [
              "IPY_MODEL_bb6392d42fe841d3bdc75145630ad692",
              "IPY_MODEL_6e6f5ec54af14e56b06cce75d0ef82f6",
              "IPY_MODEL_d614623dcc4c40abadb1a7b8311c0597"
            ],
            "layout": "IPY_MODEL_6e8d8a3e6d9f4fa7a0055db73ccc9f16"
          }
        },
        "bb6392d42fe841d3bdc75145630ad692": {
          "model_module": "@jupyter-widgets/controls",
          "model_name": "HTMLModel",
          "model_module_version": "1.5.0",
          "state": {
            "_dom_classes": [],
            "_model_module": "@jupyter-widgets/controls",
            "_model_module_version": "1.5.0",
            "_model_name": "HTMLModel",
            "_view_count": null,
            "_view_module": "@jupyter-widgets/controls",
            "_view_module_version": "1.5.0",
            "_view_name": "HTMLView",
            "description": "",
            "description_tooltip": null,
            "layout": "IPY_MODEL_9b176730cfe541c1b2e421f9fe8f829b",
            "placeholder": "​",
            "style": "IPY_MODEL_a990db35805041978051e65440ced7f6",
            "value": "Generating train split: 100%"
          }
        },
        "6e6f5ec54af14e56b06cce75d0ef82f6": {
          "model_module": "@jupyter-widgets/controls",
          "model_name": "FloatProgressModel",
          "model_module_version": "1.5.0",
          "state": {
            "_dom_classes": [],
            "_model_module": "@jupyter-widgets/controls",
            "_model_module_version": "1.5.0",
            "_model_name": "FloatProgressModel",
            "_view_count": null,
            "_view_module": "@jupyter-widgets/controls",
            "_view_module_version": "1.5.0",
            "_view_name": "ProgressView",
            "bar_style": "success",
            "description": "",
            "description_tooltip": null,
            "layout": "IPY_MODEL_53ce974cfa9c47e1931a7896d9500e01",
            "max": 5574,
            "min": 0,
            "orientation": "horizontal",
            "style": "IPY_MODEL_140708160cc24207a30df4e442e80c8b",
            "value": 5574
          }
        },
        "d614623dcc4c40abadb1a7b8311c0597": {
          "model_module": "@jupyter-widgets/controls",
          "model_name": "HTMLModel",
          "model_module_version": "1.5.0",
          "state": {
            "_dom_classes": [],
            "_model_module": "@jupyter-widgets/controls",
            "_model_module_version": "1.5.0",
            "_model_name": "HTMLModel",
            "_view_count": null,
            "_view_module": "@jupyter-widgets/controls",
            "_view_module_version": "1.5.0",
            "_view_name": "HTMLView",
            "description": "",
            "description_tooltip": null,
            "layout": "IPY_MODEL_b2c07d4ea8fb45d3b123259164faeb4f",
            "placeholder": "​",
            "style": "IPY_MODEL_b105482ca3f346ca9fffa96f8c742102",
            "value": " 5574/5574 [00:00&lt;00:00, 16866.04 examples/s]"
          }
        },
        "6e8d8a3e6d9f4fa7a0055db73ccc9f16": {
          "model_module": "@jupyter-widgets/base",
          "model_name": "LayoutModel",
          "model_module_version": "1.2.0",
          "state": {
            "_model_module": "@jupyter-widgets/base",
            "_model_module_version": "1.2.0",
            "_model_name": "LayoutModel",
            "_view_count": null,
            "_view_module": "@jupyter-widgets/base",
            "_view_module_version": "1.2.0",
            "_view_name": "LayoutView",
            "align_content": null,
            "align_items": null,
            "align_self": null,
            "border": null,
            "bottom": null,
            "display": null,
            "flex": null,
            "flex_flow": null,
            "grid_area": null,
            "grid_auto_columns": null,
            "grid_auto_flow": null,
            "grid_auto_rows": null,
            "grid_column": null,
            "grid_gap": null,
            "grid_row": null,
            "grid_template_areas": null,
            "grid_template_columns": null,
            "grid_template_rows": null,
            "height": null,
            "justify_content": null,
            "justify_items": null,
            "left": null,
            "margin": null,
            "max_height": null,
            "max_width": null,
            "min_height": null,
            "min_width": null,
            "object_fit": null,
            "object_position": null,
            "order": null,
            "overflow": null,
            "overflow_x": null,
            "overflow_y": null,
            "padding": null,
            "right": null,
            "top": null,
            "visibility": null,
            "width": null
          }
        },
        "9b176730cfe541c1b2e421f9fe8f829b": {
          "model_module": "@jupyter-widgets/base",
          "model_name": "LayoutModel",
          "model_module_version": "1.2.0",
          "state": {
            "_model_module": "@jupyter-widgets/base",
            "_model_module_version": "1.2.0",
            "_model_name": "LayoutModel",
            "_view_count": null,
            "_view_module": "@jupyter-widgets/base",
            "_view_module_version": "1.2.0",
            "_view_name": "LayoutView",
            "align_content": null,
            "align_items": null,
            "align_self": null,
            "border": null,
            "bottom": null,
            "display": null,
            "flex": null,
            "flex_flow": null,
            "grid_area": null,
            "grid_auto_columns": null,
            "grid_auto_flow": null,
            "grid_auto_rows": null,
            "grid_column": null,
            "grid_gap": null,
            "grid_row": null,
            "grid_template_areas": null,
            "grid_template_columns": null,
            "grid_template_rows": null,
            "height": null,
            "justify_content": null,
            "justify_items": null,
            "left": null,
            "margin": null,
            "max_height": null,
            "max_width": null,
            "min_height": null,
            "min_width": null,
            "object_fit": null,
            "object_position": null,
            "order": null,
            "overflow": null,
            "overflow_x": null,
            "overflow_y": null,
            "padding": null,
            "right": null,
            "top": null,
            "visibility": null,
            "width": null
          }
        },
        "a990db35805041978051e65440ced7f6": {
          "model_module": "@jupyter-widgets/controls",
          "model_name": "DescriptionStyleModel",
          "model_module_version": "1.5.0",
          "state": {
            "_model_module": "@jupyter-widgets/controls",
            "_model_module_version": "1.5.0",
            "_model_name": "DescriptionStyleModel",
            "_view_count": null,
            "_view_module": "@jupyter-widgets/base",
            "_view_module_version": "1.2.0",
            "_view_name": "StyleView",
            "description_width": ""
          }
        },
        "53ce974cfa9c47e1931a7896d9500e01": {
          "model_module": "@jupyter-widgets/base",
          "model_name": "LayoutModel",
          "model_module_version": "1.2.0",
          "state": {
            "_model_module": "@jupyter-widgets/base",
            "_model_module_version": "1.2.0",
            "_model_name": "LayoutModel",
            "_view_count": null,
            "_view_module": "@jupyter-widgets/base",
            "_view_module_version": "1.2.0",
            "_view_name": "LayoutView",
            "align_content": null,
            "align_items": null,
            "align_self": null,
            "border": null,
            "bottom": null,
            "display": null,
            "flex": null,
            "flex_flow": null,
            "grid_area": null,
            "grid_auto_columns": null,
            "grid_auto_flow": null,
            "grid_auto_rows": null,
            "grid_column": null,
            "grid_gap": null,
            "grid_row": null,
            "grid_template_areas": null,
            "grid_template_columns": null,
            "grid_template_rows": null,
            "height": null,
            "justify_content": null,
            "justify_items": null,
            "left": null,
            "margin": null,
            "max_height": null,
            "max_width": null,
            "min_height": null,
            "min_width": null,
            "object_fit": null,
            "object_position": null,
            "order": null,
            "overflow": null,
            "overflow_x": null,
            "overflow_y": null,
            "padding": null,
            "right": null,
            "top": null,
            "visibility": null,
            "width": null
          }
        },
        "140708160cc24207a30df4e442e80c8b": {
          "model_module": "@jupyter-widgets/controls",
          "model_name": "ProgressStyleModel",
          "model_module_version": "1.5.0",
          "state": {
            "_model_module": "@jupyter-widgets/controls",
            "_model_module_version": "1.5.0",
            "_model_name": "ProgressStyleModel",
            "_view_count": null,
            "_view_module": "@jupyter-widgets/base",
            "_view_module_version": "1.2.0",
            "_view_name": "StyleView",
            "bar_color": null,
            "description_width": ""
          }
        },
        "b2c07d4ea8fb45d3b123259164faeb4f": {
          "model_module": "@jupyter-widgets/base",
          "model_name": "LayoutModel",
          "model_module_version": "1.2.0",
          "state": {
            "_model_module": "@jupyter-widgets/base",
            "_model_module_version": "1.2.0",
            "_model_name": "LayoutModel",
            "_view_count": null,
            "_view_module": "@jupyter-widgets/base",
            "_view_module_version": "1.2.0",
            "_view_name": "LayoutView",
            "align_content": null,
            "align_items": null,
            "align_self": null,
            "border": null,
            "bottom": null,
            "display": null,
            "flex": null,
            "flex_flow": null,
            "grid_area": null,
            "grid_auto_columns": null,
            "grid_auto_flow": null,
            "grid_auto_rows": null,
            "grid_column": null,
            "grid_gap": null,
            "grid_row": null,
            "grid_template_areas": null,
            "grid_template_columns": null,
            "grid_template_rows": null,
            "height": null,
            "justify_content": null,
            "justify_items": null,
            "left": null,
            "margin": null,
            "max_height": null,
            "max_width": null,
            "min_height": null,
            "min_width": null,
            "object_fit": null,
            "object_position": null,
            "order": null,
            "overflow": null,
            "overflow_x": null,
            "overflow_y": null,
            "padding": null,
            "right": null,
            "top": null,
            "visibility": null,
            "width": null
          }
        },
        "b105482ca3f346ca9fffa96f8c742102": {
          "model_module": "@jupyter-widgets/controls",
          "model_name": "DescriptionStyleModel",
          "model_module_version": "1.5.0",
          "state": {
            "_model_module": "@jupyter-widgets/controls",
            "_model_module_version": "1.5.0",
            "_model_name": "DescriptionStyleModel",
            "_view_count": null,
            "_view_module": "@jupyter-widgets/base",
            "_view_module_version": "1.2.0",
            "_view_name": "StyleView",
            "description_width": ""
          }
        }
      }
    }
  },
  "cells": [
    {
      "cell_type": "code",
      "source": [
        "!pip install datasets"
      ],
      "metadata": {
        "colab": {
          "base_uri": "https://localhost:8080/"
        },
        "id": "8N5SID20PCBB",
        "outputId": "e812e5ee-ca96-43d4-b35e-794215825b50"
      },
      "execution_count": 1,
      "outputs": [
        {
          "output_type": "stream",
          "name": "stdout",
          "text": [
            "Collecting datasets\n",
            "  Downloading datasets-2.14.5-py3-none-any.whl (519 kB)\n",
            "\u001b[2K     \u001b[90m━━━━━━━━━━━━━━━━━━━━━━━━━━━━━━━━━━━━━━━\u001b[0m \u001b[32m519.6/519.6 kB\u001b[0m \u001b[31m8.9 MB/s\u001b[0m eta \u001b[36m0:00:00\u001b[0m\n",
            "\u001b[?25hRequirement already satisfied: numpy>=1.17 in /usr/local/lib/python3.10/dist-packages (from datasets) (1.23.5)\n",
            "Requirement already satisfied: pyarrow>=8.0.0 in /usr/local/lib/python3.10/dist-packages (from datasets) (9.0.0)\n",
            "Collecting dill<0.3.8,>=0.3.0 (from datasets)\n",
            "  Downloading dill-0.3.7-py3-none-any.whl (115 kB)\n",
            "\u001b[2K     \u001b[90m━━━━━━━━━━━━━━━━━━━━━━━━━━━━━━━━━━━━━━\u001b[0m \u001b[32m115.3/115.3 kB\u001b[0m \u001b[31m15.0 MB/s\u001b[0m eta \u001b[36m0:00:00\u001b[0m\n",
            "\u001b[?25hRequirement already satisfied: pandas in /usr/local/lib/python3.10/dist-packages (from datasets) (1.5.3)\n",
            "Requirement already satisfied: requests>=2.19.0 in /usr/local/lib/python3.10/dist-packages (from datasets) (2.31.0)\n",
            "Requirement already satisfied: tqdm>=4.62.1 in /usr/local/lib/python3.10/dist-packages (from datasets) (4.66.1)\n",
            "Collecting xxhash (from datasets)\n",
            "  Downloading xxhash-3.3.0-cp310-cp310-manylinux_2_17_x86_64.manylinux2014_x86_64.whl (194 kB)\n",
            "\u001b[2K     \u001b[90m━━━━━━━━━━━━━━━━━━━━━━━━━━━━━━━━━━━━━━\u001b[0m \u001b[32m194.1/194.1 kB\u001b[0m \u001b[31m23.5 MB/s\u001b[0m eta \u001b[36m0:00:00\u001b[0m\n",
            "\u001b[?25hCollecting multiprocess (from datasets)\n",
            "  Downloading multiprocess-0.70.15-py310-none-any.whl (134 kB)\n",
            "\u001b[2K     \u001b[90m━━━━━━━━━━━━━━━━━━━━━━━━━━━━━━━━━━━━━━\u001b[0m \u001b[32m134.8/134.8 kB\u001b[0m \u001b[31m16.0 MB/s\u001b[0m eta \u001b[36m0:00:00\u001b[0m\n",
            "\u001b[?25hRequirement already satisfied: fsspec[http]<2023.9.0,>=2023.1.0 in /usr/local/lib/python3.10/dist-packages (from datasets) (2023.6.0)\n",
            "Requirement already satisfied: aiohttp in /usr/local/lib/python3.10/dist-packages (from datasets) (3.8.5)\n",
            "Collecting huggingface-hub<1.0.0,>=0.14.0 (from datasets)\n",
            "  Downloading huggingface_hub-0.17.2-py3-none-any.whl (294 kB)\n",
            "\u001b[2K     \u001b[90m━━━━━━━━━━━━━━━━━━━━━━━━━━━━━━━━━━━━━━\u001b[0m \u001b[32m294.9/294.9 kB\u001b[0m \u001b[31m29.9 MB/s\u001b[0m eta \u001b[36m0:00:00\u001b[0m\n",
            "\u001b[?25hRequirement already satisfied: packaging in /usr/local/lib/python3.10/dist-packages (from datasets) (23.1)\n",
            "Requirement already satisfied: pyyaml>=5.1 in /usr/local/lib/python3.10/dist-packages (from datasets) (6.0.1)\n",
            "Requirement already satisfied: attrs>=17.3.0 in /usr/local/lib/python3.10/dist-packages (from aiohttp->datasets) (23.1.0)\n",
            "Requirement already satisfied: charset-normalizer<4.0,>=2.0 in /usr/local/lib/python3.10/dist-packages (from aiohttp->datasets) (3.2.0)\n",
            "Requirement already satisfied: multidict<7.0,>=4.5 in /usr/local/lib/python3.10/dist-packages (from aiohttp->datasets) (6.0.4)\n",
            "Requirement already satisfied: async-timeout<5.0,>=4.0.0a3 in /usr/local/lib/python3.10/dist-packages (from aiohttp->datasets) (4.0.3)\n",
            "Requirement already satisfied: yarl<2.0,>=1.0 in /usr/local/lib/python3.10/dist-packages (from aiohttp->datasets) (1.9.2)\n",
            "Requirement already satisfied: frozenlist>=1.1.1 in /usr/local/lib/python3.10/dist-packages (from aiohttp->datasets) (1.4.0)\n",
            "Requirement already satisfied: aiosignal>=1.1.2 in /usr/local/lib/python3.10/dist-packages (from aiohttp->datasets) (1.3.1)\n",
            "Requirement already satisfied: filelock in /usr/local/lib/python3.10/dist-packages (from huggingface-hub<1.0.0,>=0.14.0->datasets) (3.12.2)\n",
            "Requirement already satisfied: typing-extensions>=3.7.4.3 in /usr/local/lib/python3.10/dist-packages (from huggingface-hub<1.0.0,>=0.14.0->datasets) (4.5.0)\n",
            "Requirement already satisfied: idna<4,>=2.5 in /usr/local/lib/python3.10/dist-packages (from requests>=2.19.0->datasets) (3.4)\n",
            "Requirement already satisfied: urllib3<3,>=1.21.1 in /usr/local/lib/python3.10/dist-packages (from requests>=2.19.0->datasets) (2.0.4)\n",
            "Requirement already satisfied: certifi>=2017.4.17 in /usr/local/lib/python3.10/dist-packages (from requests>=2.19.0->datasets) (2023.7.22)\n",
            "Requirement already satisfied: python-dateutil>=2.8.1 in /usr/local/lib/python3.10/dist-packages (from pandas->datasets) (2.8.2)\n",
            "Requirement already satisfied: pytz>=2020.1 in /usr/local/lib/python3.10/dist-packages (from pandas->datasets) (2023.3.post1)\n",
            "Requirement already satisfied: six>=1.5 in /usr/local/lib/python3.10/dist-packages (from python-dateutil>=2.8.1->pandas->datasets) (1.16.0)\n",
            "Installing collected packages: xxhash, dill, multiprocess, huggingface-hub, datasets\n",
            "Successfully installed datasets-2.14.5 dill-0.3.7 huggingface-hub-0.17.2 multiprocess-0.70.15 xxhash-3.3.0\n"
          ]
        }
      ]
    },
    {
      "cell_type": "code",
      "source": [
        "import pandas as pd\n",
        "import numpy as np\n",
        "import matplotlib.pyplot as plt\n",
        "import seaborn as sns\n",
        "import tensorflow as tf"
      ],
      "metadata": {
        "id": "8u4dAHIBShay"
      },
      "execution_count": 2,
      "outputs": []
    },
    {
      "cell_type": "markdown",
      "source": [
        "# Preparing data"
      ],
      "metadata": {
        "id": "dyoLrFv5RhA9"
      }
    },
    {
      "cell_type": "markdown",
      "source": [
        "Using data from Hugging face"
      ],
      "metadata": {
        "id": "wchdQzZ3RjgY"
      }
    },
    {
      "cell_type": "markdown",
      "source": [
        "Working reference by\n",
        "[Paper](https://arxiv.org/pdf/2110.15718v3.pdf)\n",
        "\n"
      ],
      "metadata": {
        "id": "LxExl_KwR8QM"
      }
    },
    {
      "cell_type": "code",
      "source": [
        "from datasets import load_dataset\n",
        "\n",
        "dataset = load_dataset(\"sms_spam\")"
      ],
      "metadata": {
        "id": "t3LR6kF-PZJ6",
        "colab": {
          "base_uri": "https://localhost:8080/",
          "height": 177,
          "referenced_widgets": [
            "c1360c68e41c4d03b99f553a7ce49bf0",
            "4cfa796b582746bea4d026162fbff6a9",
            "7ad452426b904419b33c8baf4bfec65e",
            "463c1851f2d741a2ada259448e8c4b48",
            "326a2890446843e5ba0c49e1fd898491",
            "19ef090de5714a22b3ce15bee7f57cd9",
            "f39cf6ec480e4493a37df52f3f6187e8",
            "2a9df5fc0e6f423aaf99d2713d65aba2",
            "88fa3bee02a34ba7979175b657530a66",
            "242ecbe1beb34d1ab8a413bc2d25f400",
            "d16739fdcf6346a19565470b59fde763",
            "61acc412fd1942efbecb560ba172b6c7",
            "6bd1f597c4fd47a78014e47c796b920d",
            "4967aef5ee0f4901a6e33702251cc98d",
            "f8a86003e5a14613bc9c599ac51a7669",
            "343f94652ee1431c90aa3df0a436ddc2",
            "34ed4441565242bbb8abaf0bea70bb2b",
            "e5157ef0b94f4d46acac14e2657a8ea2",
            "e850292fc0a742579e252917f6c5698b",
            "adbe6604547946e88f8b28562049f283",
            "e1aecc8faa254e36b8eaf0cfcd6806f4",
            "b358306248e04a8a9b0d9b2995c22627",
            "eafb6ff612aa40c9a107ec3806f97c8b",
            "74ec980073c3402ca571061b1169f613",
            "49148b9595af420087349dbcd7b05cae",
            "de57172b219c423ebcb28b7575a2e02f",
            "1fea12b01a724a6cbdfc696d0eca3791",
            "49a175174a054990878c7328759c722a",
            "84dc78364e254f099a9cf7968693767f",
            "54977c61b10a4d16b0fb79a8a6a209bd",
            "4fc109ed262745d79591ca698874d1a8",
            "bc026578184142088e6f4b6cef27e80e",
            "fbcc4ff8c7fb4cdc9fc1fb4fae4717d8",
            "e2249961426e4e52a4d9339c0461b2fb",
            "2dca7cea92c0438eae061e0541761ec7",
            "b75c074494814e38b6b90e48792c9fa0",
            "8654a70d0c9e4d9d928cf16591954e2d",
            "f35480e204b1491bbe22ecd60f8fbfe8",
            "f9c34e3c297c4474905ba84c6fbf5adc",
            "fa8bf51c0eee4115ad4846c04d191081",
            "ba3e32eec32c4b0f95e65c8460132d5c",
            "1edf4312be3d4e62bb8a2c73249a36e9",
            "0fb3db5da8a943b0a97bcfbd60506fba",
            "914dc57c5a8745948a20d1f83ae85efe",
            "b2b0431d2c9147aba9247dec2f79c9b8",
            "bb6392d42fe841d3bdc75145630ad692",
            "6e6f5ec54af14e56b06cce75d0ef82f6",
            "d614623dcc4c40abadb1a7b8311c0597",
            "6e8d8a3e6d9f4fa7a0055db73ccc9f16",
            "9b176730cfe541c1b2e421f9fe8f829b",
            "a990db35805041978051e65440ced7f6",
            "53ce974cfa9c47e1931a7896d9500e01",
            "140708160cc24207a30df4e442e80c8b",
            "b2c07d4ea8fb45d3b123259164faeb4f",
            "b105482ca3f346ca9fffa96f8c742102"
          ]
        },
        "outputId": "dc1bad79-8b94-4434-da15-8bb28dac0a32"
      },
      "execution_count": 3,
      "outputs": [
        {
          "output_type": "display_data",
          "data": {
            "text/plain": [
              "Downloading builder script:   0%|          | 0.00/3.21k [00:00<?, ?B/s]"
            ],
            "application/vnd.jupyter.widget-view+json": {
              "version_major": 2,
              "version_minor": 0,
              "model_id": "c1360c68e41c4d03b99f553a7ce49bf0"
            }
          },
          "metadata": {}
        },
        {
          "output_type": "display_data",
          "data": {
            "text/plain": [
              "Downloading metadata:   0%|          | 0.00/1.69k [00:00<?, ?B/s]"
            ],
            "application/vnd.jupyter.widget-view+json": {
              "version_major": 2,
              "version_minor": 0,
              "model_id": "61acc412fd1942efbecb560ba172b6c7"
            }
          },
          "metadata": {}
        },
        {
          "output_type": "display_data",
          "data": {
            "text/plain": [
              "Downloading readme:   0%|          | 0.00/4.87k [00:00<?, ?B/s]"
            ],
            "application/vnd.jupyter.widget-view+json": {
              "version_major": 2,
              "version_minor": 0,
              "model_id": "eafb6ff612aa40c9a107ec3806f97c8b"
            }
          },
          "metadata": {}
        },
        {
          "output_type": "display_data",
          "data": {
            "text/plain": [
              "Downloading data: 0.00B [00:00, ?B/s]"
            ],
            "application/vnd.jupyter.widget-view+json": {
              "version_major": 2,
              "version_minor": 0,
              "model_id": "e2249961426e4e52a4d9339c0461b2fb"
            }
          },
          "metadata": {}
        },
        {
          "output_type": "display_data",
          "data": {
            "text/plain": [
              "Generating train split:   0%|          | 0/5574 [00:00<?, ? examples/s]"
            ],
            "application/vnd.jupyter.widget-view+json": {
              "version_major": 2,
              "version_minor": 0,
              "model_id": "b2b0431d2c9147aba9247dec2f79c9b8"
            }
          },
          "metadata": {}
        }
      ]
    },
    {
      "cell_type": "code",
      "source": [
        "dataset"
      ],
      "metadata": {
        "colab": {
          "base_uri": "https://localhost:8080/"
        },
        "id": "L8ygNn0sPbxS",
        "outputId": "7d4a97a7-7505-4af5-d13f-8433b65b05eb"
      },
      "execution_count": 4,
      "outputs": [
        {
          "output_type": "execute_result",
          "data": {
            "text/plain": [
              "DatasetDict({\n",
              "    train: Dataset({\n",
              "        features: ['sms', 'label'],\n",
              "        num_rows: 5574\n",
              "    })\n",
              "})"
            ]
          },
          "metadata": {},
          "execution_count": 4
        }
      ]
    },
    {
      "cell_type": "code",
      "source": [
        "data_train_sms=dataset['train']\n",
        "sms_texts=[]\n",
        "label=[]\n",
        "for text,labels in zip(data_train_sms['sms'],data_train_sms['label']):\n",
        "  sms_texts.append(text)\n",
        "  label.append(labels)"
      ],
      "metadata": {
        "id": "cARyZCq4Q9tk"
      },
      "execution_count": 5,
      "outputs": []
    },
    {
      "cell_type": "code",
      "source": [
        "df_sms_spam=pd.DataFrame({\n",
        "    \"sms text\":sms_texts,\n",
        "    \"labels\":label\n",
        "})"
      ],
      "metadata": {
        "id": "IOlzDinrQ9zL"
      },
      "execution_count": 6,
      "outputs": []
    },
    {
      "cell_type": "markdown",
      "source": [
        "# EDA"
      ],
      "metadata": {
        "id": "Zk5G7zEuRej7"
      }
    },
    {
      "cell_type": "code",
      "source": [
        "df_sms_spam"
      ],
      "metadata": {
        "colab": {
          "base_uri": "https://localhost:8080/",
          "height": 423
        },
        "id": "VtDnqgstRZ7y",
        "outputId": "8efbcf3d-05a7-4e84-8991-549b9605e7c2"
      },
      "execution_count": 7,
      "outputs": [
        {
          "output_type": "execute_result",
          "data": {
            "text/plain": [
              "                                               sms text  labels\n",
              "0     Go until jurong point, crazy.. Available only ...       0\n",
              "1                       Ok lar... Joking wif u oni...\\n       0\n",
              "2     Free entry in 2 a wkly comp to win FA Cup fina...       1\n",
              "3     U dun say so early hor... U c already then say...       0\n",
              "4     Nah I don't think he goes to usf, he lives aro...       0\n",
              "...                                                 ...     ...\n",
              "5569  This is the 2nd time we have tried 2 contact u...       1\n",
              "5570             Will ü b going to esplanade fr home?\\n       0\n",
              "5571  Pity, * was in mood for that. So...any other s...       0\n",
              "5572  The guy did some bitching but I acted like i'd...       0\n",
              "5573                       Rofl. Its true to its name\\n       0\n",
              "\n",
              "[5574 rows x 2 columns]"
            ],
            "text/html": [
              "\n",
              "  <div id=\"df-eb7b7e5b-53f4-4b49-b025-af9dea960efc\" class=\"colab-df-container\">\n",
              "    <div>\n",
              "<style scoped>\n",
              "    .dataframe tbody tr th:only-of-type {\n",
              "        vertical-align: middle;\n",
              "    }\n",
              "\n",
              "    .dataframe tbody tr th {\n",
              "        vertical-align: top;\n",
              "    }\n",
              "\n",
              "    .dataframe thead th {\n",
              "        text-align: right;\n",
              "    }\n",
              "</style>\n",
              "<table border=\"1\" class=\"dataframe\">\n",
              "  <thead>\n",
              "    <tr style=\"text-align: right;\">\n",
              "      <th></th>\n",
              "      <th>sms text</th>\n",
              "      <th>labels</th>\n",
              "    </tr>\n",
              "  </thead>\n",
              "  <tbody>\n",
              "    <tr>\n",
              "      <th>0</th>\n",
              "      <td>Go until jurong point, crazy.. Available only ...</td>\n",
              "      <td>0</td>\n",
              "    </tr>\n",
              "    <tr>\n",
              "      <th>1</th>\n",
              "      <td>Ok lar... Joking wif u oni...\\n</td>\n",
              "      <td>0</td>\n",
              "    </tr>\n",
              "    <tr>\n",
              "      <th>2</th>\n",
              "      <td>Free entry in 2 a wkly comp to win FA Cup fina...</td>\n",
              "      <td>1</td>\n",
              "    </tr>\n",
              "    <tr>\n",
              "      <th>3</th>\n",
              "      <td>U dun say so early hor... U c already then say...</td>\n",
              "      <td>0</td>\n",
              "    </tr>\n",
              "    <tr>\n",
              "      <th>4</th>\n",
              "      <td>Nah I don't think he goes to usf, he lives aro...</td>\n",
              "      <td>0</td>\n",
              "    </tr>\n",
              "    <tr>\n",
              "      <th>...</th>\n",
              "      <td>...</td>\n",
              "      <td>...</td>\n",
              "    </tr>\n",
              "    <tr>\n",
              "      <th>5569</th>\n",
              "      <td>This is the 2nd time we have tried 2 contact u...</td>\n",
              "      <td>1</td>\n",
              "    </tr>\n",
              "    <tr>\n",
              "      <th>5570</th>\n",
              "      <td>Will ü b going to esplanade fr home?\\n</td>\n",
              "      <td>0</td>\n",
              "    </tr>\n",
              "    <tr>\n",
              "      <th>5571</th>\n",
              "      <td>Pity, * was in mood for that. So...any other s...</td>\n",
              "      <td>0</td>\n",
              "    </tr>\n",
              "    <tr>\n",
              "      <th>5572</th>\n",
              "      <td>The guy did some bitching but I acted like i'd...</td>\n",
              "      <td>0</td>\n",
              "    </tr>\n",
              "    <tr>\n",
              "      <th>5573</th>\n",
              "      <td>Rofl. Its true to its name\\n</td>\n",
              "      <td>0</td>\n",
              "    </tr>\n",
              "  </tbody>\n",
              "</table>\n",
              "<p>5574 rows × 2 columns</p>\n",
              "</div>\n",
              "    <div class=\"colab-df-buttons\">\n",
              "\n",
              "  <div class=\"colab-df-container\">\n",
              "    <button class=\"colab-df-convert\" onclick=\"convertToInteractive('df-eb7b7e5b-53f4-4b49-b025-af9dea960efc')\"\n",
              "            title=\"Convert this dataframe to an interactive table.\"\n",
              "            style=\"display:none;\">\n",
              "\n",
              "  <svg xmlns=\"http://www.w3.org/2000/svg\" height=\"24px\" viewBox=\"0 -960 960 960\">\n",
              "    <path d=\"M120-120v-720h720v720H120Zm60-500h600v-160H180v160Zm220 220h160v-160H400v160Zm0 220h160v-160H400v160ZM180-400h160v-160H180v160Zm440 0h160v-160H620v160ZM180-180h160v-160H180v160Zm440 0h160v-160H620v160Z\"/>\n",
              "  </svg>\n",
              "    </button>\n",
              "\n",
              "  <style>\n",
              "    .colab-df-container {\n",
              "      display:flex;\n",
              "      gap: 12px;\n",
              "    }\n",
              "\n",
              "    .colab-df-convert {\n",
              "      background-color: #E8F0FE;\n",
              "      border: none;\n",
              "      border-radius: 50%;\n",
              "      cursor: pointer;\n",
              "      display: none;\n",
              "      fill: #1967D2;\n",
              "      height: 32px;\n",
              "      padding: 0 0 0 0;\n",
              "      width: 32px;\n",
              "    }\n",
              "\n",
              "    .colab-df-convert:hover {\n",
              "      background-color: #E2EBFA;\n",
              "      box-shadow: 0px 1px 2px rgba(60, 64, 67, 0.3), 0px 1px 3px 1px rgba(60, 64, 67, 0.15);\n",
              "      fill: #174EA6;\n",
              "    }\n",
              "\n",
              "    .colab-df-buttons div {\n",
              "      margin-bottom: 4px;\n",
              "    }\n",
              "\n",
              "    [theme=dark] .colab-df-convert {\n",
              "      background-color: #3B4455;\n",
              "      fill: #D2E3FC;\n",
              "    }\n",
              "\n",
              "    [theme=dark] .colab-df-convert:hover {\n",
              "      background-color: #434B5C;\n",
              "      box-shadow: 0px 1px 3px 1px rgba(0, 0, 0, 0.15);\n",
              "      filter: drop-shadow(0px 1px 2px rgba(0, 0, 0, 0.3));\n",
              "      fill: #FFFFFF;\n",
              "    }\n",
              "  </style>\n",
              "\n",
              "    <script>\n",
              "      const buttonEl =\n",
              "        document.querySelector('#df-eb7b7e5b-53f4-4b49-b025-af9dea960efc button.colab-df-convert');\n",
              "      buttonEl.style.display =\n",
              "        google.colab.kernel.accessAllowed ? 'block' : 'none';\n",
              "\n",
              "      async function convertToInteractive(key) {\n",
              "        const element = document.querySelector('#df-eb7b7e5b-53f4-4b49-b025-af9dea960efc');\n",
              "        const dataTable =\n",
              "          await google.colab.kernel.invokeFunction('convertToInteractive',\n",
              "                                                    [key], {});\n",
              "        if (!dataTable) return;\n",
              "\n",
              "        const docLinkHtml = 'Like what you see? Visit the ' +\n",
              "          '<a target=\"_blank\" href=https://colab.research.google.com/notebooks/data_table.ipynb>data table notebook</a>'\n",
              "          + ' to learn more about interactive tables.';\n",
              "        element.innerHTML = '';\n",
              "        dataTable['output_type'] = 'display_data';\n",
              "        await google.colab.output.renderOutput(dataTable, element);\n",
              "        const docLink = document.createElement('div');\n",
              "        docLink.innerHTML = docLinkHtml;\n",
              "        element.appendChild(docLink);\n",
              "      }\n",
              "    </script>\n",
              "  </div>\n",
              "\n",
              "\n",
              "<div id=\"df-3251d3f1-51b7-4055-bf06-71d84c525271\">\n",
              "  <button class=\"colab-df-quickchart\" onclick=\"quickchart('df-3251d3f1-51b7-4055-bf06-71d84c525271')\"\n",
              "            title=\"Suggest charts.\"\n",
              "            style=\"display:none;\">\n",
              "\n",
              "<svg xmlns=\"http://www.w3.org/2000/svg\" height=\"24px\"viewBox=\"0 0 24 24\"\n",
              "     width=\"24px\">\n",
              "    <g>\n",
              "        <path d=\"M19 3H5c-1.1 0-2 .9-2 2v14c0 1.1.9 2 2 2h14c1.1 0 2-.9 2-2V5c0-1.1-.9-2-2-2zM9 17H7v-7h2v7zm4 0h-2V7h2v10zm4 0h-2v-4h2v4z\"/>\n",
              "    </g>\n",
              "</svg>\n",
              "  </button>\n",
              "\n",
              "<style>\n",
              "  .colab-df-quickchart {\n",
              "      --bg-color: #E8F0FE;\n",
              "      --fill-color: #1967D2;\n",
              "      --hover-bg-color: #E2EBFA;\n",
              "      --hover-fill-color: #174EA6;\n",
              "      --disabled-fill-color: #AAA;\n",
              "      --disabled-bg-color: #DDD;\n",
              "  }\n",
              "\n",
              "  [theme=dark] .colab-df-quickchart {\n",
              "      --bg-color: #3B4455;\n",
              "      --fill-color: #D2E3FC;\n",
              "      --hover-bg-color: #434B5C;\n",
              "      --hover-fill-color: #FFFFFF;\n",
              "      --disabled-bg-color: #3B4455;\n",
              "      --disabled-fill-color: #666;\n",
              "  }\n",
              "\n",
              "  .colab-df-quickchart {\n",
              "    background-color: var(--bg-color);\n",
              "    border: none;\n",
              "    border-radius: 50%;\n",
              "    cursor: pointer;\n",
              "    display: none;\n",
              "    fill: var(--fill-color);\n",
              "    height: 32px;\n",
              "    padding: 0;\n",
              "    width: 32px;\n",
              "  }\n",
              "\n",
              "  .colab-df-quickchart:hover {\n",
              "    background-color: var(--hover-bg-color);\n",
              "    box-shadow: 0 1px 2px rgba(60, 64, 67, 0.3), 0 1px 3px 1px rgba(60, 64, 67, 0.15);\n",
              "    fill: var(--button-hover-fill-color);\n",
              "  }\n",
              "\n",
              "  .colab-df-quickchart-complete:disabled,\n",
              "  .colab-df-quickchart-complete:disabled:hover {\n",
              "    background-color: var(--disabled-bg-color);\n",
              "    fill: var(--disabled-fill-color);\n",
              "    box-shadow: none;\n",
              "  }\n",
              "\n",
              "  .colab-df-spinner {\n",
              "    border: 2px solid var(--fill-color);\n",
              "    border-color: transparent;\n",
              "    border-bottom-color: var(--fill-color);\n",
              "    animation:\n",
              "      spin 1s steps(1) infinite;\n",
              "  }\n",
              "\n",
              "  @keyframes spin {\n",
              "    0% {\n",
              "      border-color: transparent;\n",
              "      border-bottom-color: var(--fill-color);\n",
              "      border-left-color: var(--fill-color);\n",
              "    }\n",
              "    20% {\n",
              "      border-color: transparent;\n",
              "      border-left-color: var(--fill-color);\n",
              "      border-top-color: var(--fill-color);\n",
              "    }\n",
              "    30% {\n",
              "      border-color: transparent;\n",
              "      border-left-color: var(--fill-color);\n",
              "      border-top-color: var(--fill-color);\n",
              "      border-right-color: var(--fill-color);\n",
              "    }\n",
              "    40% {\n",
              "      border-color: transparent;\n",
              "      border-right-color: var(--fill-color);\n",
              "      border-top-color: var(--fill-color);\n",
              "    }\n",
              "    60% {\n",
              "      border-color: transparent;\n",
              "      border-right-color: var(--fill-color);\n",
              "    }\n",
              "    80% {\n",
              "      border-color: transparent;\n",
              "      border-right-color: var(--fill-color);\n",
              "      border-bottom-color: var(--fill-color);\n",
              "    }\n",
              "    90% {\n",
              "      border-color: transparent;\n",
              "      border-bottom-color: var(--fill-color);\n",
              "    }\n",
              "  }\n",
              "</style>\n",
              "\n",
              "  <script>\n",
              "    async function quickchart(key) {\n",
              "      const quickchartButtonEl =\n",
              "        document.querySelector('#' + key + ' button');\n",
              "      quickchartButtonEl.disabled = true;  // To prevent multiple clicks.\n",
              "      quickchartButtonEl.classList.add('colab-df-spinner');\n",
              "      try {\n",
              "        const charts = await google.colab.kernel.invokeFunction(\n",
              "            'suggestCharts', [key], {});\n",
              "      } catch (error) {\n",
              "        console.error('Error during call to suggestCharts:', error);\n",
              "      }\n",
              "      quickchartButtonEl.classList.remove('colab-df-spinner');\n",
              "      quickchartButtonEl.classList.add('colab-df-quickchart-complete');\n",
              "    }\n",
              "    (() => {\n",
              "      let quickchartButtonEl =\n",
              "        document.querySelector('#df-3251d3f1-51b7-4055-bf06-71d84c525271 button');\n",
              "      quickchartButtonEl.style.display =\n",
              "        google.colab.kernel.accessAllowed ? 'block' : 'none';\n",
              "    })();\n",
              "  </script>\n",
              "</div>\n",
              "    </div>\n",
              "  </div>\n"
            ]
          },
          "metadata": {},
          "execution_count": 7
        }
      ]
    },
    {
      "cell_type": "markdown",
      "source": [
        "Check how many labels"
      ],
      "metadata": {
        "id": "T09EiGmyRqrR"
      }
    },
    {
      "cell_type": "code",
      "source": [
        "df_sms_spam['labels'].value_counts()"
      ],
      "metadata": {
        "colab": {
          "base_uri": "https://localhost:8080/"
        },
        "id": "d8ah3F2LRqE4",
        "outputId": "24cfe33b-5467-4e79-a046-274d4c35109b"
      },
      "execution_count": 8,
      "outputs": [
        {
          "output_type": "execute_result",
          "data": {
            "text/plain": [
              "0    4827\n",
              "1     747\n",
              "Name: labels, dtype: int64"
            ]
          },
          "metadata": {},
          "execution_count": 8
        }
      ]
    },
    {
      "cell_type": "code",
      "source": [
        "sns.countplot(x=df_sms_spam['labels'])\n",
        "plt.title(\"Total label sms\")\n",
        "plt.show()"
      ],
      "metadata": {
        "colab": {
          "base_uri": "https://localhost:8080/",
          "height": 472
        },
        "id": "f0zOWlxxRuL6",
        "outputId": "bbbe6f0f-27c3-45d3-ccbe-6565132ec3e6"
      },
      "execution_count": 9,
      "outputs": [
        {
          "output_type": "display_data",
          "data": {
            "text/plain": [
              "<Figure size 640x480 with 1 Axes>"
            ],
            "image/png": "[encoded data removed]"
          },
          "metadata": {}
        }
      ]
    },
    {
      "cell_type": "markdown",
      "source": [
        "# Text preprocessing"
      ],
      "metadata": {
        "id": "D_bkp3ihSby6"
      }
    },
    {
      "cell_type": "markdown",
      "source": [
        "## First of all, text messages were\n",
        "prepared by splitting each message into a list of words"
      ],
      "metadata": {
        "id": "bJrm8d3IT9e6"
      }
    },
    {
      "cell_type": "markdown",
      "source": [
        "## text preprocessing techniques like stemming and stop words removal."
      ],
      "metadata": {
        "id": "djXyGnTlSeOB"
      }
    },
    {
      "cell_type": "code",
      "source": [
        "from nltk.stem import *\n",
        "stemmer = PorterStemmer()"
      ],
      "metadata": {
        "id": "05_gRMkmUeQE"
      },
      "execution_count": 10,
      "outputs": []
    },
    {
      "cell_type": "code",
      "source": [
        "import nltk\n",
        "nltk.download('stopwords')\n",
        "from nltk.corpus import stopwords\n",
        "nltk.download('stopwords')\n",
        "stp=stopwords.words('english')"
      ],
      "metadata": {
        "colab": {
          "base_uri": "https://localhost:8080/"
        },
        "id": "4kITBKzvU1gF",
        "outputId": "8e8583d1-3651-47b6-89e6-46c9c02f0f21"
      },
      "execution_count": 11,
      "outputs": [
        {
          "output_type": "stream",
          "name": "stderr",
          "text": [
            "[nltk_data] Downloading package stopwords to /root/nltk_data...\n",
            "[nltk_data]   Unzipping corpora/stopwords.zip.\n",
            "[nltk_data] Downloading package stopwords to /root/nltk_data...\n",
            "[nltk_data]   Package stopwords is already up-to-date!\n"
          ]
        }
      ]
    },
    {
      "cell_type": "code",
      "source": [
        "def stemsWords(text):\n",
        "  text=stemmer.stem(text)\n",
        "  return text\n",
        "\n",
        "def flatten(l):\n",
        "    \"\"\"\n",
        "    Same as\n",
        "    flat_list = []\n",
        "    for sublist in l:\n",
        "    for item in sublist:\n",
        "        flat_list.append(item)\n",
        "\n",
        "    Example =[[1,2,3,4,5]] - > [1,2,3,4,5]\n",
        "    \"\"\"\n",
        "    return \" \".join([item for sublist in l for item in sublist])\n",
        "\n",
        "def remove_stop_words(text):\n",
        "  clean_words = []\n",
        "  text=text.split()\n",
        "  perulangan_text=[word for word in text if word not in stp]\n",
        "  clean_words.append(perulangan_text)\n",
        "  return flatten(clean_words)"
      ],
      "metadata": {
        "id": "aVFMRDTZSJDy"
      },
      "execution_count": 12,
      "outputs": []
    },
    {
      "cell_type": "code",
      "source": [
        "def preprocessing_text(text):\n",
        "  text=remove_stop_words(text)\n",
        "  text=stemsWords(text)\n",
        "  return text"
      ],
      "metadata": {
        "id": "XcxOKwf0UAdS"
      },
      "execution_count": 13,
      "outputs": []
    },
    {
      "cell_type": "code",
      "source": [
        "%%time\n",
        "df_sms_spam['Clean_text']=df_sms_spam['sms text'].apply(preprocessing_text)"
      ],
      "metadata": {
        "colab": {
          "base_uri": "https://localhost:8080/"
        },
        "id": "YF0GHGsgVDyA",
        "outputId": "c41442b7-b278-4a94-cd3c-9ebe9374b750"
      },
      "execution_count": 14,
      "outputs": [
        {
          "output_type": "stream",
          "name": "stdout",
          "text": [
            "CPU times: user 184 ms, sys: 2.21 ms, total: 187 ms\n",
            "Wall time: 187 ms\n"
          ]
        }
      ]
    },
    {
      "cell_type": "code",
      "source": [
        "train_sentences=df_sms_spam['Clean_text'].to_list()"
      ],
      "metadata": {
        "id": "_OxjjXasVO1a"
      },
      "execution_count": 15,
      "outputs": []
    },
    {
      "cell_type": "markdown",
      "source": [
        "# Afterward, each word was\n",
        "transformed into a sequence of numbers called a word vector; the word vector is generated using a word embedding\n",
        "technique as explained in \"Word embedding\""
      ],
      "metadata": {
        "id": "QPK_tnKZWJxS"
      }
    },
    {
      "cell_type": "code",
      "source": [
        "import tensorflow_hub as hub\n",
        "tf_hub_embedding_layer = hub.KerasLayer(\"https://tfhub.dev/google/universal-sentence-encoder/4\",\n",
        "                                        trainable=False,\n",
        "                                        name=\"universal_sentence_encoder\")"
      ],
      "metadata": {
        "id": "0cUhRCBMVliq"
      },
      "execution_count": 16,
      "outputs": []
    },
    {
      "cell_type": "code",
      "source": [
        "import random\n",
        "random_training_sentence = random.choice(train_sentences)\n",
        "print(f\"Random training sentence:\\n{random_training_sentence}\\n\")\n",
        "use_embedded_sentence = tf_hub_embedding_layer([random_training_sentence])\n",
        "print(f\"Sentence after embedding:\\n{use_embedded_sentence[0][:30]} (truncated output)...\\n\")\n",
        "print(f\"Length of sentence embedding:\\n{len(use_embedded_sentence[0])}\")"
      ],
      "metadata": {
        "colab": {
          "base_uri": "https://localhost:8080/"
        },
        "id": "fge81I3GW49b",
        "outputId": "5928e24c-af15-4d20-ff44-58b90226d726"
      },
      "execution_count": 17,
      "outputs": [
        {
          "output_type": "stream",
          "name": "stdout",
          "text": [
            "Random training sentence:\n",
            "yar say got error.\n",
            "\n",
            "Sentence after embedding:\n",
            "[-0.01140213 -0.01831092  0.00829669 -0.01919336  0.08133593 -0.02735036\n",
            " -0.05342252 -0.03947569  0.00943821  0.03940858  0.04227641 -0.02015187\n",
            " -0.08397266 -0.08236803 -0.01276495 -0.0279448   0.05613042 -0.02464522\n",
            "  0.03678168 -0.02424833 -0.02227608  0.03224855 -0.00140911  0.04403498\n",
            " -0.04221113  0.07093397  0.06423816  0.0242459  -0.03955304 -0.01028522] (truncated output)...\n",
            "\n",
            "Length of sentence embedding:\n",
            "512\n"
          ]
        }
      ]
    },
    {
      "cell_type": "code",
      "source": [
        "X_embed=tf_hub_embedding_layer(train_sentences)"
      ],
      "metadata": {
        "id": "3VKGN7vdYJ6s"
      },
      "execution_count": 18,
      "outputs": []
    },
    {
      "cell_type": "code",
      "source": [
        "X_embed"
      ],
      "metadata": {
        "colab": {
          "base_uri": "https://localhost:8080/"
        },
        "id": "zsoEnx4qYcPM",
        "outputId": "a872adc6-5640-427e-b327-e55baed2a314"
      },
      "execution_count": 19,
      "outputs": [
        {
          "output_type": "execute_result",
          "data": {
            "text/plain": [
              "<tf.Tensor: shape=(5574, 512), dtype=float32, numpy=\n",
              "array([[ 0.02112633, -0.0386215 , -0.00032354, ..., -0.04223671,\n",
              "         0.00219074, -0.09668012],\n",
              "       [-0.01459222,  0.07797027, -0.03176386, ..., -0.02766832,\n",
              "         0.01186169,  0.04429685],\n",
              "       [-0.06489021, -0.08707049,  0.02931668, ..., -0.0678794 ,\n",
              "        -0.05303235, -0.0355957 ],\n",
              "       ...,\n",
              "       [ 0.01949391,  0.03333146,  0.077934  , ...,  0.02246847,\n",
              "        -0.01618201,  0.05756629],\n",
              "       [-0.01566824, -0.08123073,  0.03313924, ..., -0.00734642,\n",
              "        -0.02299803,  0.05534538],\n",
              "       [ 0.06508131,  0.03481466,  0.0659538 , ..., -0.04339778,\n",
              "         0.03233333, -0.04087827]], dtype=float32)>"
            ]
          },
          "metadata": {},
          "execution_count": 19
        }
      ]
    },
    {
      "cell_type": "code",
      "source": [
        "y=df_sms_spam['labels']"
      ],
      "metadata": {
        "id": "vr5U1WomaqmL"
      },
      "execution_count": 20,
      "outputs": []
    },
    {
      "cell_type": "markdown",
      "source": [
        "#  handling imbalance labels"
      ],
      "metadata": {
        "id": "Zsn3qXgTYe9s"
      }
    },
    {
      "cell_type": "markdown",
      "source": [
        "SMOTE over-sampling\n",
        "technique was applied for balancing data before feeding it\n",
        "into the classifier"
      ],
      "metadata": {
        "id": "ibh0Hw5MYlCf"
      }
    },
    {
      "cell_type": "code",
      "source": [
        "plt.pie(x=df_sms_spam['labels'].value_counts(),labels=df_sms_spam['labels'].unique(),autopct='%1.1f%%',startangle=140)\n",
        "plt.title(\"Total label sms\")\n",
        "plt.show()"
      ],
      "metadata": {
        "colab": {
          "base_uri": "https://localhost:8080/",
          "height": 428
        },
        "id": "aYhbIoRbYhxz",
        "outputId": "a6d61e59-7465-4243-908c-a98e31343bd6"
      },
      "execution_count": 21,
      "outputs": [
        {
          "output_type": "display_data",
          "data": {
            "text/plain": [
              "<Figure size 640x480 with 1 Axes>"
            ],
            "image/png": "[encoded data removed]"
          },
          "metadata": {}
        }
      ]
    },
    {
      "cell_type": "markdown",
      "source": [
        "the labels has imbalance data\n",
        "* 1 (spam) 13.4% of the total data\n",
        "* 0 (ham) 86.6% of the total data"
      ],
      "metadata": {
        "id": "wn9ro1tTZV_p"
      }
    },
    {
      "cell_type": "code",
      "source": [
        "from imblearn.over_sampling import SMOTE"
      ],
      "metadata": {
        "id": "3RiSt1bzZ2Ob"
      },
      "execution_count": 22,
      "outputs": []
    },
    {
      "cell_type": "markdown",
      "source": [
        "# modelling"
      ],
      "metadata": {
        "id": "7TTOwLgVXL-K"
      }
    },
    {
      "cell_type": "code",
      "source": [
        "from sklearn.neighbors import KNeighborsClassifier\n",
        "from imblearn.pipeline import Pipeline\n",
        "from sklearn.metrics import *\n",
        "from sklearn.svm import SVC\n",
        "from sklearn.naive_bayes import GaussianNB"
      ],
      "metadata": {
        "id": "R6SpWn1HZazn"
      },
      "execution_count": 23,
      "outputs": []
    },
    {
      "cell_type": "markdown",
      "source": [
        "Split train test <br>\n",
        "Therefore, balancing\n",
        "the class distribution is necessary to obtain accurate results.\n",
        "Initially, the dataset was split into two subsets: 80% of the\n",
        "messages are for training and the remaining 20% are for testing and validation"
      ],
      "metadata": {
        "id": "IqZuosebX-7m"
      }
    },
    {
      "cell_type": "code",
      "source": [
        "from sklearn.model_selection import train_test_split"
      ],
      "metadata": {
        "id": "5iKdCGtAXvDT"
      },
      "execution_count": 24,
      "outputs": []
    },
    {
      "cell_type": "code",
      "source": [
        "len(X_embed),len(y)"
      ],
      "metadata": {
        "colab": {
          "base_uri": "https://localhost:8080/"
        },
        "id": "9527LckkCCzm",
        "outputId": "46b6d524-48a2-4a8d-da3e-787c79ab4603"
      },
      "execution_count": 25,
      "outputs": [
        {
          "output_type": "execute_result",
          "data": {
            "text/plain": [
              "(5574, 5574)"
            ]
          },
          "metadata": {},
          "execution_count": 25
        }
      ]
    },
    {
      "cell_type": "code",
      "source": [
        "X_embed=[value for value in X_embed]"
      ],
      "metadata": {
        "id": "LdLVNBApCz2k"
      },
      "execution_count": 26,
      "outputs": []
    },
    {
      "cell_type": "code",
      "source": [
        "X_train, X_test, y_train, y_test = train_test_split(X_embed, y, test_size=0.2, random_state=42)"
      ],
      "metadata": {
        "id": "bC47H_WKYEay"
      },
      "execution_count": 27,
      "outputs": []
    },
    {
      "cell_type": "code",
      "source": [
        "print(f'Length train data : {len(X_train)}')\n",
        "print(f'Length test data : {len(X_test)}')"
      ],
      "metadata": {
        "colab": {
          "base_uri": "https://localhost:8080/"
        },
        "id": "XpPq5TF3C6Sm",
        "outputId": "4f6534d8-b8db-485a-ea86-e399605df682"
      },
      "execution_count": 28,
      "outputs": [
        {
          "output_type": "stream",
          "name": "stdout",
          "text": [
            "Length train data : 4459\n",
            "Length test data : 1115\n"
          ]
        }
      ]
    },
    {
      "cell_type": "markdown",
      "source": [
        "## Naives bayes"
      ],
      "metadata": {
        "id": "VZ7goEyEkz6c"
      }
    },
    {
      "cell_type": "code",
      "source": [
        "model_NB=Pipeline([\n",
        "    ('over sampling',SMOTE(random_state=0)), #  handling imbalance labels SMOTE over-sampling\n",
        "    ('nb',GaussianNB())\n",
        "])"
      ],
      "metadata": {
        "id": "9i9oou-0k9KK"
      },
      "execution_count": 29,
      "outputs": []
    },
    {
      "cell_type": "code",
      "source": [
        "%%time\n",
        "model_NB.fit(X_train,y_train)"
      ],
      "metadata": {
        "colab": {
          "base_uri": "https://localhost:8080/",
          "height": 160
        },
        "id": "kWxe2_V9lFXn",
        "outputId": "2623eb5e-c855-4d1d-9acd-53d4b36f41f6"
      },
      "execution_count": 30,
      "outputs": [
        {
          "output_type": "stream",
          "name": "stdout",
          "text": [
            "CPU times: user 589 ms, sys: 59.5 ms, total: 648 ms\n",
            "Wall time: 778 ms\n"
          ]
        },
        {
          "output_type": "execute_result",
          "data": {
            "text/plain": [
              "Pipeline(steps=[('over sampling', SMOTE(random_state=0)), ('nb', GaussianNB())])"
            ],
            "text/html": [
              "<style>#sk-container-id-1 {color: black;background-color: white;}#sk-container-id-1 pre{padding: 0;}#sk-container-id-1 div.sk-toggleable {background-color: white;}#sk-container-id-1 label.sk-toggleable__label {cursor: pointer;display: block;width: 100%;margin-bottom: 0;padding: 0.3em;box-sizing: border-box;text-align: center;}#sk-container-id-1 label.sk-toggleable__label-arrow:before {content: \"▸\";float: left;margin-right: 0.25em;color: #696969;}#sk-container-id-1 label.sk-toggleable__label-arrow:hover:before {color: black;}#sk-container-id-1 div.sk-estimator:hover label.sk-toggleable__label-arrow:before {color: black;}#sk-container-id-1 div.sk-toggleable__content {max-height: 0;max-width: 0;overflow: hidden;text-align: left;background-color: #f0f8ff;}#sk-container-id-1 div.sk-toggleable__content pre {margin: 0.2em;color: black;border-radius: 0.25em;background-color: #f0f8ff;}#sk-container-id-1 input.sk-toggleable__control:checked~div.sk-toggleable__content {max-height: 200px;max-width: 100%;overflow: auto;}#sk-container-id-1 input.sk-toggleable__control:checked~label.sk-toggleable__label-arrow:before {content: \"▾\";}#sk-container-id-1 div.sk-estimator input.sk-toggleable__control:checked~label.sk-toggleable__label {background-color: #d4ebff;}#sk-container-id-1 div.sk-label input.sk-toggleable__control:checked~label.sk-toggleable__label {background-color: #d4ebff;}#sk-container-id-1 input.sk-hidden--visually {border: 0;clip: rect(1px 1px 1px 1px);clip: rect(1px, 1px, 1px, 1px);height: 1px;margin: -1px;overflow: hidden;padding: 0;position: absolute;width: 1px;}#sk-container-id-1 div.sk-estimator {font-family: monospace;background-color: #f0f8ff;border: 1px dotted black;border-radius: 0.25em;box-sizing: border-box;margin-bottom: 0.5em;}#sk-container-id-1 div.sk-estimator:hover {background-color: #d4ebff;}#sk-container-id-1 div.sk-parallel-item::after {content: \"\";width: 100%;border-bottom: 1px solid gray;flex-grow: 1;}#sk-container-id-1 div.sk-label:hover label.sk-toggleable__label {background-color: #d4ebff;}#sk-container-id-1 div.sk-serial::before {content: \"\";position: absolute;border-left: 1px solid gray;box-sizing: border-box;top: 0;bottom: 0;left: 50%;z-index: 0;}#sk-container-id-1 div.sk-serial {display: flex;flex-direction: column;align-items: center;background-color: white;padding-right: 0.2em;padding-left: 0.2em;position: relative;}#sk-container-id-1 div.sk-item {position: relative;z-index: 1;}#sk-container-id-1 div.sk-parallel {display: flex;align-items: stretch;justify-content: center;background-color: white;position: relative;}#sk-container-id-1 div.sk-item::before, #sk-container-id-1 div.sk-parallel-item::before {content: \"\";position: absolute;border-left: 1px solid gray;box-sizing: border-box;top: 0;bottom: 0;left: 50%;z-index: -1;}#sk-container-id-1 div.sk-parallel-item {display: flex;flex-direction: column;z-index: 1;position: relative;background-color: white;}#sk-container-id-1 div.sk-parallel-item:first-child::after {align-self: flex-end;width: 50%;}#sk-container-id-1 div.sk-parallel-item:last-child::after {align-self: flex-start;width: 50%;}#sk-container-id-1 div.sk-parallel-item:only-child::after {width: 0;}#sk-container-id-1 div.sk-dashed-wrapped {border: 1px dashed gray;margin: 0 0.4em 0.5em 0.4em;box-sizing: border-box;padding-bottom: 0.4em;background-color: white;}#sk-container-id-1 div.sk-label label {font-family: monospace;font-weight: bold;display: inline-block;line-height: 1.2em;}#sk-container-id-1 div.sk-label-container {text-align: center;}#sk-container-id-1 div.sk-container {/* jupyter's `normalize.less` sets `[hidden] { display: none; }` but bootstrap.min.css set `[hidden] { display: none !important; }` so we also need the `!important` here to be able to override the default hidden behavior on the sphinx rendered scikit-learn.org. See: https://github.com/scikit-learn/scikit-learn/issues/21755 */display: inline-block !important;position: relative;}#sk-container-id-1 div.sk-text-repr-fallback {display: none;}</style><div id=\"sk-container-id-1\" class=\"sk-top-container\"><div class=\"sk-text-repr-fallback\"><pre>Pipeline(steps=[(&#x27;over sampling&#x27;, SMOTE(random_state=0)), (&#x27;nb&#x27;, GaussianNB())])</pre><b>In a Jupyter environment, please rerun this cell to show the HTML representation or trust the notebook. <br />On GitHub, the HTML representation is unable to render, please try loading this page with nbviewer.org.</b></div><div class=\"sk-container\" hidden><div class=\"sk-item sk-dashed-wrapped\"><div class=\"sk-label-container\"><div class=\"sk-label sk-toggleable\"><input class=\"sk-toggleable__control sk-hidden--visually\" id=\"sk-estimator-id-1\" type=\"checkbox\" ><label for=\"sk-estimator-id-1\" class=\"sk-toggleable__label sk-toggleable__label-arrow\">Pipeline</label><div class=\"sk-toggleable__content\"><pre>Pipeline(steps=[(&#x27;over sampling&#x27;, SMOTE(random_state=0)), (&#x27;nb&#x27;, GaussianNB())])</pre></div></div></div><div class=\"sk-serial\"><div class=\"sk-item\"><div class=\"sk-estimator sk-toggleable\"><input class=\"sk-toggleable__control sk-hidden--visually\" id=\"sk-estimator-id-2\" type=\"checkbox\" ><label for=\"sk-estimator-id-2\" class=\"sk-toggleable__label sk-toggleable__label-arrow\">SMOTE</label><div class=\"sk-toggleable__content\"><pre>SMOTE(random_state=0)</pre></div></div></div><div class=\"sk-item\"><div class=\"sk-estimator sk-toggleable\"><input class=\"sk-toggleable__control sk-hidden--visually\" id=\"sk-estimator-id-3\" type=\"checkbox\" ><label for=\"sk-estimator-id-3\" class=\"sk-toggleable__label sk-toggleable__label-arrow\">GaussianNB</label><div class=\"sk-toggleable__content\"><pre>GaussianNB()</pre></div></div></div></div></div></div></div>"
            ]
          },
          "metadata": {},
          "execution_count": 30
        }
      ]
    },
    {
      "cell_type": "code",
      "source": [
        "model_predict_nb=model_NB.predict(X_test)"
      ],
      "metadata": {
        "id": "yw-JBvZJlUcu"
      },
      "execution_count": 31,
      "outputs": []
    },
    {
      "cell_type": "code",
      "source": [
        "model_predict_nb_proba=model_NB.predict_proba(X_test)"
      ],
      "metadata": {
        "id": "TT6ejg9UObDY"
      },
      "execution_count": 52,
      "outputs": []
    },
    {
      "cell_type": "code",
      "source": [
        "model_predict_nb_proba"
      ],
      "metadata": {
        "colab": {
          "base_uri": "https://localhost:8080/"
        },
        "id": "R361MZZvOgVz",
        "outputId": "86edf253-c8e1-4e73-b1ac-cc01c72b2c22"
      },
      "execution_count": 53,
      "outputs": [
        {
          "output_type": "execute_result",
          "data": {
            "text/plain": [
              "array([[1.00000000e+00, 7.44983541e-67],\n",
              "       [9.99999997e-01, 2.52843704e-09],\n",
              "       [1.00000000e+00, 6.01118868e-60],\n",
              "       ...,\n",
              "       [1.00000000e+00, 4.16336068e-10],\n",
              "       [1.00000000e+00, 2.62287466e-50],\n",
              "       [3.07059474e-38, 1.00000000e+00]])"
            ]
          },
          "metadata": {},
          "execution_count": 53
        }
      ]
    },
    {
      "cell_type": "markdown",
      "source": [
        "## KNN"
      ],
      "metadata": {
        "id": "b_jH96auZVKL"
      }
    },
    {
      "cell_type": "code",
      "source": [
        "model_knn=Pipeline([\n",
        "    ('over sampling',SMOTE(random_state=0)), #  handling imbalance labels SMOTE over-sampling\n",
        "    ('knn',KNeighborsClassifier(metric='cosine'))\n",
        "])"
      ],
      "metadata": {
        "id": "OrIM2d6KW7rK"
      },
      "execution_count": 32,
      "outputs": []
    },
    {
      "cell_type": "code",
      "source": [
        "model_knn.fit(X_train,y_train)"
      ],
      "metadata": {
        "id": "Yxt24w2AXsbs",
        "colab": {
          "base_uri": "https://localhost:8080/",
          "height": 125
        },
        "outputId": "165aad6b-02af-4379-9775-e78117afaccd"
      },
      "execution_count": 33,
      "outputs": [
        {
          "output_type": "execute_result",
          "data": {
            "text/plain": [
              "Pipeline(steps=[('over sampling', SMOTE(random_state=0)),\n",
              "                ('knn', KNeighborsClassifier(metric='cosine'))])"
            ],
            "text/html": [
              "<style>#sk-container-id-2 {color: black;background-color: white;}#sk-container-id-2 pre{padding: 0;}#sk-container-id-2 div.sk-toggleable {background-color: white;}#sk-container-id-2 label.sk-toggleable__label {cursor: pointer;display: block;width: 100%;margin-bottom: 0;padding: 0.3em;box-sizing: border-box;text-align: center;}#sk-container-id-2 label.sk-toggleable__label-arrow:before {content: \"▸\";float: left;margin-right: 0.25em;color: #696969;}#sk-container-id-2 label.sk-toggleable__label-arrow:hover:before {color: black;}#sk-container-id-2 div.sk-estimator:hover label.sk-toggleable__label-arrow:before {color: black;}#sk-container-id-2 div.sk-toggleable__content {max-height: 0;max-width: 0;overflow: hidden;text-align: left;background-color: #f0f8ff;}#sk-container-id-2 div.sk-toggleable__content pre {margin: 0.2em;color: black;border-radius: 0.25em;background-color: #f0f8ff;}#sk-container-id-2 input.sk-toggleable__control:checked~div.sk-toggleable__content {max-height: 200px;max-width: 100%;overflow: auto;}#sk-container-id-2 input.sk-toggleable__control:checked~label.sk-toggleable__label-arrow:before {content: \"▾\";}#sk-container-id-2 div.sk-estimator input.sk-toggleable__control:checked~label.sk-toggleable__label {background-color: #d4ebff;}#sk-container-id-2 div.sk-label input.sk-toggleable__control:checked~label.sk-toggleable__label {background-color: #d4ebff;}#sk-container-id-2 input.sk-hidden--visually {border: 0;clip: rect(1px 1px 1px 1px);clip: rect(1px, 1px, 1px, 1px);height: 1px;margin: -1px;overflow: hidden;padding: 0;position: absolute;width: 1px;}#sk-container-id-2 div.sk-estimator {font-family: monospace;background-color: #f0f8ff;border: 1px dotted black;border-radius: 0.25em;box-sizing: border-box;margin-bottom: 0.5em;}#sk-container-id-2 div.sk-estimator:hover {background-color: #d4ebff;}#sk-container-id-2 div.sk-parallel-item::after {content: \"\";width: 100%;border-bottom: 1px solid gray;flex-grow: 1;}#sk-container-id-2 div.sk-label:hover label.sk-toggleable__label {background-color: #d4ebff;}#sk-container-id-2 div.sk-serial::before {content: \"\";position: absolute;border-left: 1px solid gray;box-sizing: border-box;top: 0;bottom: 0;left: 50%;z-index: 0;}#sk-container-id-2 div.sk-serial {display: flex;flex-direction: column;align-items: center;background-color: white;padding-right: 0.2em;padding-left: 0.2em;position: relative;}#sk-container-id-2 div.sk-item {position: relative;z-index: 1;}#sk-container-id-2 div.sk-parallel {display: flex;align-items: stretch;justify-content: center;background-color: white;position: relative;}#sk-container-id-2 div.sk-item::before, #sk-container-id-2 div.sk-parallel-item::before {content: \"\";position: absolute;border-left: 1px solid gray;box-sizing: border-box;top: 0;bottom: 0;left: 50%;z-index: -1;}#sk-container-id-2 div.sk-parallel-item {display: flex;flex-direction: column;z-index: 1;position: relative;background-color: white;}#sk-container-id-2 div.sk-parallel-item:first-child::after {align-self: flex-end;width: 50%;}#sk-container-id-2 div.sk-parallel-item:last-child::after {align-self: flex-start;width: 50%;}#sk-container-id-2 div.sk-parallel-item:only-child::after {width: 0;}#sk-container-id-2 div.sk-dashed-wrapped {border: 1px dashed gray;margin: 0 0.4em 0.5em 0.4em;box-sizing: border-box;padding-bottom: 0.4em;background-color: white;}#sk-container-id-2 div.sk-label label {font-family: monospace;font-weight: bold;display: inline-block;line-height: 1.2em;}#sk-container-id-2 div.sk-label-container {text-align: center;}#sk-container-id-2 div.sk-container {/* jupyter's `normalize.less` sets `[hidden] { display: none; }` but bootstrap.min.css set `[hidden] { display: none !important; }` so we also need the `!important` here to be able to override the default hidden behavior on the sphinx rendered scikit-learn.org. See: https://github.com/scikit-learn/scikit-learn/issues/21755 */display: inline-block !important;position: relative;}#sk-container-id-2 div.sk-text-repr-fallback {display: none;}</style><div id=\"sk-container-id-2\" class=\"sk-top-container\"><div class=\"sk-text-repr-fallback\"><pre>Pipeline(steps=[(&#x27;over sampling&#x27;, SMOTE(random_state=0)),\n",
              "                (&#x27;knn&#x27;, KNeighborsClassifier(metric=&#x27;cosine&#x27;))])</pre><b>In a Jupyter environment, please rerun this cell to show the HTML representation or trust the notebook. <br />On GitHub, the HTML representation is unable to render, please try loading this page with nbviewer.org.</b></div><div class=\"sk-container\" hidden><div class=\"sk-item sk-dashed-wrapped\"><div class=\"sk-label-container\"><div class=\"sk-label sk-toggleable\"><input class=\"sk-toggleable__control sk-hidden--visually\" id=\"sk-estimator-id-4\" type=\"checkbox\" ><label for=\"sk-estimator-id-4\" class=\"sk-toggleable__label sk-toggleable__label-arrow\">Pipeline</label><div class=\"sk-toggleable__content\"><pre>Pipeline(steps=[(&#x27;over sampling&#x27;, SMOTE(random_state=0)),\n",
              "                (&#x27;knn&#x27;, KNeighborsClassifier(metric=&#x27;cosine&#x27;))])</pre></div></div></div><div class=\"sk-serial\"><div class=\"sk-item\"><div class=\"sk-estimator sk-toggleable\"><input class=\"sk-toggleable__control sk-hidden--visually\" id=\"sk-estimator-id-5\" type=\"checkbox\" ><label for=\"sk-estimator-id-5\" class=\"sk-toggleable__label sk-toggleable__label-arrow\">SMOTE</label><div class=\"sk-toggleable__content\"><pre>SMOTE(random_state=0)</pre></div></div></div><div class=\"sk-item\"><div class=\"sk-estimator sk-toggleable\"><input class=\"sk-toggleable__control sk-hidden--visually\" id=\"sk-estimator-id-6\" type=\"checkbox\" ><label for=\"sk-estimator-id-6\" class=\"sk-toggleable__label sk-toggleable__label-arrow\">KNeighborsClassifier</label><div class=\"sk-toggleable__content\"><pre>KNeighborsClassifier(metric=&#x27;cosine&#x27;)</pre></div></div></div></div></div></div></div>"
            ]
          },
          "metadata": {},
          "execution_count": 33
        }
      ]
    },
    {
      "cell_type": "code",
      "source": [
        "model_predict=model_knn.predict(X_test)"
      ],
      "metadata": {
        "id": "kLAW2ZItDIQX"
      },
      "execution_count": 34,
      "outputs": []
    },
    {
      "cell_type": "code",
      "source": [
        "model_predict"
      ],
      "metadata": {
        "colab": {
          "base_uri": "https://localhost:8080/"
        },
        "id": "HTF3b1ivD_O3",
        "outputId": "3380d98d-bd15-4d06-c852-2baccc0058c5"
      },
      "execution_count": 35,
      "outputs": [
        {
          "output_type": "execute_result",
          "data": {
            "text/plain": [
              "array([0, 1, 0, ..., 0, 0, 1])"
            ]
          },
          "metadata": {},
          "execution_count": 35
        }
      ]
    },
    {
      "cell_type": "markdown",
      "source": [
        "## SVM"
      ],
      "metadata": {
        "id": "i9KFH1aDZWuJ"
      }
    },
    {
      "cell_type": "code",
      "source": [
        "model_svm=Pipeline([\n",
        "    ('over sampling',SMOTE(random_state=0)), #  handling imbalance labels SMOTE over-sampling\n",
        "    ('SVM',SVC())\n",
        "])"
      ],
      "metadata": {
        "id": "idbShRMcZdvk"
      },
      "execution_count": 37,
      "outputs": []
    },
    {
      "cell_type": "code",
      "source": [
        "model_svm.fit(X_train,y_train)"
      ],
      "metadata": {
        "colab": {
          "base_uri": "https://localhost:8080/",
          "height": 125
        },
        "id": "DHRJ0Kj1Zimu",
        "outputId": "3d55347c-a820-42c6-f31f-2702b1d7843c"
      },
      "execution_count": 38,
      "outputs": [
        {
          "output_type": "execute_result",
          "data": {
            "text/plain": [
              "Pipeline(steps=[('over sampling', SMOTE(random_state=0)), ('SVM', SVC())])"
            ],
            "text/html": [
              "<style>#sk-container-id-3 {color: black;background-color: white;}#sk-container-id-3 pre{padding: 0;}#sk-container-id-3 div.sk-toggleable {background-color: white;}#sk-container-id-3 label.sk-toggleable__label {cursor: pointer;display: block;width: 100%;margin-bottom: 0;padding: 0.3em;box-sizing: border-box;text-align: center;}#sk-container-id-3 label.sk-toggleable__label-arrow:before {content: \"▸\";float: left;margin-right: 0.25em;color: #696969;}#sk-container-id-3 label.sk-toggleable__label-arrow:hover:before {color: black;}#sk-container-id-3 div.sk-estimator:hover label.sk-toggleable__label-arrow:before {color: black;}#sk-container-id-3 div.sk-toggleable__content {max-height: 0;max-width: 0;overflow: hidden;text-align: left;background-color: #f0f8ff;}#sk-container-id-3 div.sk-toggleable__content pre {margin: 0.2em;color: black;border-radius: 0.25em;background-color: #f0f8ff;}#sk-container-id-3 input.sk-toggleable__control:checked~div.sk-toggleable__content {max-height: 200px;max-width: 100%;overflow: auto;}#sk-container-id-3 input.sk-toggleable__control:checked~label.sk-toggleable__label-arrow:before {content: \"▾\";}#sk-container-id-3 div.sk-estimator input.sk-toggleable__control:checked~label.sk-toggleable__label {background-color: #d4ebff;}#sk-container-id-3 div.sk-label input.sk-toggleable__control:checked~label.sk-toggleable__label {background-color: #d4ebff;}#sk-container-id-3 input.sk-hidden--visually {border: 0;clip: rect(1px 1px 1px 1px);clip: rect(1px, 1px, 1px, 1px);height: 1px;margin: -1px;overflow: hidden;padding: 0;position: absolute;width: 1px;}#sk-container-id-3 div.sk-estimator {font-family: monospace;background-color: #f0f8ff;border: 1px dotted black;border-radius: 0.25em;box-sizing: border-box;margin-bottom: 0.5em;}#sk-container-id-3 div.sk-estimator:hover {background-color: #d4ebff;}#sk-container-id-3 div.sk-parallel-item::after {content: \"\";width: 100%;border-bottom: 1px solid gray;flex-grow: 1;}#sk-container-id-3 div.sk-label:hover label.sk-toggleable__label {background-color: #d4ebff;}#sk-container-id-3 div.sk-serial::before {content: \"\";position: absolute;border-left: 1px solid gray;box-sizing: border-box;top: 0;bottom: 0;left: 50%;z-index: 0;}#sk-container-id-3 div.sk-serial {display: flex;flex-direction: column;align-items: center;background-color: white;padding-right: 0.2em;padding-left: 0.2em;position: relative;}#sk-container-id-3 div.sk-item {position: relative;z-index: 1;}#sk-container-id-3 div.sk-parallel {display: flex;align-items: stretch;justify-content: center;background-color: white;position: relative;}#sk-container-id-3 div.sk-item::before, #sk-container-id-3 div.sk-parallel-item::before {content: \"\";position: absolute;border-left: 1px solid gray;box-sizing: border-box;top: 0;bottom: 0;left: 50%;z-index: -1;}#sk-container-id-3 div.sk-parallel-item {display: flex;flex-direction: column;z-index: 1;position: relative;background-color: white;}#sk-container-id-3 div.sk-parallel-item:first-child::after {align-self: flex-end;width: 50%;}#sk-container-id-3 div.sk-parallel-item:last-child::after {align-self: flex-start;width: 50%;}#sk-container-id-3 div.sk-parallel-item:only-child::after {width: 0;}#sk-container-id-3 div.sk-dashed-wrapped {border: 1px dashed gray;margin: 0 0.4em 0.5em 0.4em;box-sizing: border-box;padding-bottom: 0.4em;background-color: white;}#sk-container-id-3 div.sk-label label {font-family: monospace;font-weight: bold;display: inline-block;line-height: 1.2em;}#sk-container-id-3 div.sk-label-container {text-align: center;}#sk-container-id-3 div.sk-container {/* jupyter's `normalize.less` sets `[hidden] { display: none; }` but bootstrap.min.css set `[hidden] { display: none !important; }` so we also need the `!important` here to be able to override the default hidden behavior on the sphinx rendered scikit-learn.org. See: https://github.com/scikit-learn/scikit-learn/issues/21755 */display: inline-block !important;position: relative;}#sk-container-id-3 div.sk-text-repr-fallback {display: none;}</style><div id=\"sk-container-id-3\" class=\"sk-top-container\"><div class=\"sk-text-repr-fallback\"><pre>Pipeline(steps=[(&#x27;over sampling&#x27;, SMOTE(random_state=0)), (&#x27;SVM&#x27;, SVC())])</pre><b>In a Jupyter environment, please rerun this cell to show the HTML representation or trust the notebook. <br />On GitHub, the HTML representation is unable to render, please try loading this page with nbviewer.org.</b></div><div class=\"sk-container\" hidden><div class=\"sk-item sk-dashed-wrapped\"><div class=\"sk-label-container\"><div class=\"sk-label sk-toggleable\"><input class=\"sk-toggleable__control sk-hidden--visually\" id=\"sk-estimator-id-7\" type=\"checkbox\" ><label for=\"sk-estimator-id-7\" class=\"sk-toggleable__label sk-toggleable__label-arrow\">Pipeline</label><div class=\"sk-toggleable__content\"><pre>Pipeline(steps=[(&#x27;over sampling&#x27;, SMOTE(random_state=0)), (&#x27;SVM&#x27;, SVC())])</pre></div></div></div><div class=\"sk-serial\"><div class=\"sk-item\"><div class=\"sk-estimator sk-toggleable\"><input class=\"sk-toggleable__control sk-hidden--visually\" id=\"sk-estimator-id-8\" type=\"checkbox\" ><label for=\"sk-estimator-id-8\" class=\"sk-toggleable__label sk-toggleable__label-arrow\">SMOTE</label><div class=\"sk-toggleable__content\"><pre>SMOTE(random_state=0)</pre></div></div></div><div class=\"sk-item\"><div class=\"sk-estimator sk-toggleable\"><input class=\"sk-toggleable__control sk-hidden--visually\" id=\"sk-estimator-id-9\" type=\"checkbox\" ><label for=\"sk-estimator-id-9\" class=\"sk-toggleable__label sk-toggleable__label-arrow\">SVC</label><div class=\"sk-toggleable__content\"><pre>SVC()</pre></div></div></div></div></div></div></div>"
            ]
          },
          "metadata": {},
          "execution_count": 38
        }
      ]
    },
    {
      "cell_type": "code",
      "source": [
        "model_predict_svm=model_svm.predict(X_test)"
      ],
      "metadata": {
        "id": "QS8FL9QTZpqZ"
      },
      "execution_count": 39,
      "outputs": []
    },
    {
      "cell_type": "markdown",
      "source": [
        "# Evalutaion"
      ],
      "metadata": {
        "id": "sdyzkWnxEXUr"
      }
    },
    {
      "cell_type": "code",
      "source": [
        "!wget https://raw.githubusercontent.com/mrdbourke/tensorflow-deep-learning/main/extras/helper_functions.py"
      ],
      "metadata": {
        "id": "TcJWtc2FW5nT"
      },
      "execution_count": null,
      "outputs": []
    },
    {
      "cell_type": "code",
      "source": [
        "from helper_functions import *"
      ],
      "metadata": {
        "id": "C3N9i2gzEaTN"
      },
      "execution_count": 40,
      "outputs": []
    },
    {
      "cell_type": "markdown",
      "source": [
        "## Naives bayes"
      ],
      "metadata": {
        "id": "flpuGpMflZ4U"
      }
    },
    {
      "cell_type": "code",
      "source": [
        "result_NB=calculate_results(y_test,model_predict_nb)"
      ],
      "metadata": {
        "id": "LAe4PBAIlbv3"
      },
      "execution_count": 41,
      "outputs": []
    },
    {
      "cell_type": "code",
      "source": [
        "result_NB"
      ],
      "metadata": {
        "id": "xzQNiALGlfmO",
        "outputId": "df828719-ffed-4c2d-83ab-3c5a97bb4fcc",
        "colab": {
          "base_uri": "https://localhost:8080/"
        }
      },
      "execution_count": 42,
      "outputs": [
        {
          "output_type": "execute_result",
          "data": {
            "text/plain": [
              "{'accuracy': 96.95067264573991,\n",
              " 'precision': 0.9689684378882921,\n",
              " 'recall': 0.9695067264573991,\n",
              " 'f1': 0.9690118255460726}"
            ]
          },
          "metadata": {},
          "execution_count": 42
        }
      ]
    },
    {
      "cell_type": "code",
      "source": [
        "print(f\"Wrong prediction: {(y_test!=model_predict_nb).sum()}\")\n",
        "print(f\"Correct prediction: {(y_test==model_predict_nb).sum()}\")\n",
        "print(classification_report(y_test,model_predict_nb))"
      ],
      "metadata": {
        "id": "rO6WhoYClglm",
        "outputId": "e8580e68-6077-4b61-d1cb-341aca8da8d9",
        "colab": {
          "base_uri": "https://localhost:8080/"
        }
      },
      "execution_count": 64,
      "outputs": [
        {
          "output_type": "stream",
          "name": "stdout",
          "text": [
            "Wrong prediction: 34\n",
            "Correct prediction: 1081\n",
            "              precision    recall  f1-score   support\n",
            "\n",
            "           0       0.98      0.99      0.98       954\n",
            "           1       0.93      0.86      0.89       161\n",
            "\n",
            "    accuracy                           0.97      1115\n",
            "   macro avg       0.95      0.92      0.94      1115\n",
            "weighted avg       0.97      0.97      0.97      1115\n",
            "\n"
          ]
        }
      ]
    },
    {
      "cell_type": "markdown",
      "source": [
        "**Observation**\n",
        "* We can see evaluate metrics\n",
        "* accuracy 96.95 %\n",
        "* recall 0.96\n",
        "* f1 score 0.96\n",
        "* Wrong prediction 34 total\n",
        "* correct prediciction 1081\n"
      ],
      "metadata": {
        "id": "IAyqDf9OQYtO"
      }
    },
    {
      "cell_type": "markdown",
      "source": [
        "## SVM"
      ],
      "metadata": {
        "id": "-J6CRwadZu5O"
      }
    },
    {
      "cell_type": "code",
      "source": [
        "result_svm=calculate_results(y_test,model_predict_svm)"
      ],
      "metadata": {
        "id": "D0l939I7Zwz8"
      },
      "execution_count": 44,
      "outputs": []
    },
    {
      "cell_type": "code",
      "source": [
        "result_svm"
      ],
      "metadata": {
        "colab": {
          "base_uri": "https://localhost:8080/"
        },
        "id": "tyOFFxN8Z0DX",
        "outputId": "d4fbe8de-7c3d-474c-810f-7e487e45966b"
      },
      "execution_count": 45,
      "outputs": [
        {
          "output_type": "execute_result",
          "data": {
            "text/plain": [
              "{'accuracy': 98.38565022421525,\n",
              " 'precision': 0.9837491726937364,\n",
              " 'recall': 0.9838565022421525,\n",
              " 'f1': 0.983639876538636}"
            ]
          },
          "metadata": {},
          "execution_count": 45
        }
      ]
    },
    {
      "cell_type": "code",
      "source": [
        "print(f'Wrong prediciotn :{(y_test!=model_predict_svm).sum()}')\n",
        "print(f'Correct prediction :{(y_test==model_predict_svm).sum()}')\n",
        "print(classification_report(y_test,model_predict_svm))"
      ],
      "metadata": {
        "colab": {
          "base_uri": "https://localhost:8080/"
        },
        "id": "FaS-SmssZ1U1",
        "outputId": "e3557abf-6455-45d1-ab6a-0520df4cc7e5"
      },
      "execution_count": 67,
      "outputs": [
        {
          "output_type": "stream",
          "name": "stdout",
          "text": [
            "Wrong prediciotn :18\n",
            "Correct prediction :1097\n",
            "              precision    recall  f1-score   support\n",
            "\n",
            "           0       0.99      1.00      0.99       954\n",
            "           1       0.97      0.91      0.94       161\n",
            "\n",
            "    accuracy                           0.98      1115\n",
            "   macro avg       0.98      0.95      0.97      1115\n",
            "weighted avg       0.98      0.98      0.98      1115\n",
            "\n"
          ]
        }
      ]
    },
    {
      "cell_type": "markdown",
      "source": [
        "**Observation Model SVM**\n",
        "* We can see evaluate metrics\n",
        "* accuracy 98%\n",
        "* recall 0.96\n",
        "* f1 score 0.96\n",
        "* Wrong prediction 18 total\n",
        "* correct prediciction 1097\n",
        "\n",
        "\n",
        "\n",
        "\n"
      ],
      "metadata": {
        "id": "8O4e2-_-Q1y2"
      }
    },
    {
      "cell_type": "markdown",
      "source": [
        "## KNN"
      ],
      "metadata": {
        "id": "IdaE-Z0vEY35"
      }
    },
    {
      "cell_type": "code",
      "source": [
        "result_knn=calculate_results(y_test,model_predict)"
      ],
      "metadata": {
        "id": "Pt5ZzroWEVJv"
      },
      "execution_count": 47,
      "outputs": []
    },
    {
      "cell_type": "code",
      "source": [
        "result_knn"
      ],
      "metadata": {
        "colab": {
          "base_uri": "https://localhost:8080/"
        },
        "id": "iFPIgTbwEsZ_",
        "outputId": "9920fe24-a8f1-4a8d-8fbd-4c2c5cdc6580"
      },
      "execution_count": 48,
      "outputs": [
        {
          "output_type": "execute_result",
          "data": {
            "text/plain": [
              "{'accuracy': 95.24663677130046,\n",
              " 'precision': 0.9624597483145351,\n",
              " 'recall': 0.9524663677130045,\n",
              " 'f1': 0.9548933407325028}"
            ]
          },
          "metadata": {},
          "execution_count": 48
        }
      ]
    },
    {
      "cell_type": "code",
      "source": [
        "print(f'Wrong prediciotn :{(y_test!=model_predict).sum()}')\n",
        "print(f'Correct prediction :{(y_test==model_predict).sum()}')\n",
        "print(classification_report(y_test,model_predict))"
      ],
      "metadata": {
        "colab": {
          "base_uri": "https://localhost:8080/"
        },
        "id": "w0fbMmsvFUf2",
        "outputId": "2c61e9da-010f-48ab-cec3-0ed704f11b78"
      },
      "execution_count": 68,
      "outputs": [
        {
          "output_type": "stream",
          "name": "stdout",
          "text": [
            "Wrong prediciotn :53\n",
            "Correct prediction :1062\n",
            "              precision    recall  f1-score   support\n",
            "\n",
            "           0       1.00      0.95      0.97       954\n",
            "           1       0.76      0.98      0.86       161\n",
            "\n",
            "    accuracy                           0.95      1115\n",
            "   macro avg       0.88      0.96      0.91      1115\n",
            "weighted avg       0.96      0.95      0.95      1115\n",
            "\n"
          ]
        }
      ]
    },
    {
      "cell_type": "markdown",
      "source": [
        "**Observation Model K nearest neighbor**\n",
        "* We can see evaluate metrics\n",
        "* accuracy 95%\n",
        "* recall 0.96\n",
        "* f1 score 0.96\n",
        "* Wrong prediction 53 total\n",
        "* correct prediciction 1062\n",
        "\n",
        "\n",
        "\n",
        "\n"
      ],
      "metadata": {
        "id": "KhCvbMTWSs0E"
      }
    },
    {
      "cell_type": "markdown",
      "source": [
        "# Check overfitt or underfitt"
      ],
      "metadata": {
        "id": "6SLQi0_mXzO0"
      }
    },
    {
      "cell_type": "markdown",
      "source": [
        "![image.png](data:image/png;base64,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)"
      ],
      "metadata": {
        "id": "2OT7xh6YhbtL"
      }
    },
    {
      "cell_type": "markdown",
      "source": [
        "## Naives bayes"
      ],
      "metadata": {
        "id": "R6EO6kWRNrUH"
      }
    },
    {
      "cell_type": "code",
      "source": [
        "values = [1,14,15]\n",
        "train_scores=[]\n",
        "test_scores=[]\n",
        "for i in values:\n",
        "  model_svm=Pipeline([\n",
        "    ('over sampling',SMOTE(random_state=0)), #  handling imbalance labels SMOTE over-sampling\n",
        "    ('SVM',SVC(degree=i))\n",
        "])\n",
        "  # configure the model\n",
        "  # fit model on the training dataset\n",
        "  model_svm.fit(X_train, y_train)\n",
        "  # evaluate on the train dataset\n",
        "  train_yhat = model_svm.predict(X_train)\n",
        "  train_acc = accuracy_score(y_train, train_yhat)\n",
        "  train_scores.append(train_acc)\n",
        "  # evaluate on the test dataset\n",
        "  test_yhat = model_svm.predict(X_test)\n",
        "  test_acc = accuracy_score(y_test, test_yhat)\n",
        "  test_scores.append(test_acc)\n",
        "  # summarize progress\n",
        "  print('>%d, train: %.3f, test: %.3f' % (i, train_acc, test_acc))\n",
        "# plot of train and test scores vs number of neighbors\n",
        "plt.plot(values, train_scores, '-o', label='Train')\n",
        "plt.plot(values, test_scores, '-o', label='Test')\n",
        "plt.title(\"Check Overfitt or underfit in SVM\")\n",
        "plt.legend()\n",
        "plt.show()"
      ],
      "metadata": {
        "id": "eeEk_xUaNo_O"
      },
      "execution_count": null,
      "outputs": []
    },
    {
      "cell_type": "markdown",
      "source": [
        "## SVM"
      ],
      "metadata": {
        "id": "g7FCEvk_aKwx"
      }
    },
    {
      "cell_type": "code",
      "source": [
        "values = [1,14,15]\n",
        "train_scores=[]\n",
        "test_scores=[]\n",
        "for i in values:\n",
        "  model_svm=Pipeline([\n",
        "    ('over sampling',SMOTE(random_state=0)), #  handling imbalance labels SMOTE over-sampling\n",
        "    ('SVM',SVC(degree=i))\n",
        "])\n",
        "  # configure the model\n",
        "  # fit model on the training dataset\n",
        "  model_svm.fit(X_train, y_train)\n",
        "  # evaluate on the train dataset\n",
        "  train_yhat = model_svm.predict(X_train)\n",
        "  train_acc = accuracy_score(y_train, train_yhat)\n",
        "  train_scores.append(train_acc)\n",
        "  # evaluate on the test dataset\n",
        "  test_yhat = model_svm.predict(X_test)\n",
        "  test_acc = accuracy_score(y_test, test_yhat)\n",
        "  test_scores.append(test_acc)\n",
        "  # summarize progress\n",
        "  print('>%d, train: %.3f, test: %.3f' % (i, train_acc, test_acc))\n",
        "# plot of train and test scores vs number of neighbors\n",
        "plt.plot(values, train_scores, '-o', label='Train')\n",
        "plt.plot(values, test_scores, '-o', label='Test')\n",
        "plt.title(\"Check Overfitt or underfit in SVM\")\n",
        "plt.legend()\n",
        "plt.show()"
      ],
      "metadata": {
        "colab": {
          "base_uri": "https://localhost:8080/",
          "height": 504
        },
        "id": "F0h1egOdadHj",
        "outputId": "fff3805f-39c4-479b-a809-a093479e46ad"
      },
      "execution_count": 50,
      "outputs": [
        {
          "output_type": "stream",
          "name": "stdout",
          "text": [
            ">1, train: 1.000, test: 0.984\n",
            ">14, train: 1.000, test: 0.984\n",
            ">15, train: 1.000, test: 0.984\n"
          ]
        },
        {
          "output_type": "display_data",
          "data": {
            "text/plain": [
              "<Figure size 640x480 with 1 Axes>"
            ],
            "image/png": "[encoded data removed]"
          },
          "metadata": {}
        }
      ]
    },
    {
      "cell_type": "markdown",
      "source": [
        "Underfitt model in svm\n",
        "* train data (underfit)\n",
        "* test data (underfit)"
      ],
      "metadata": {
        "id": "X0ER2D1WcICZ"
      }
    },
    {
      "cell_type": "markdown",
      "source": [
        "## KNN"
      ],
      "metadata": {
        "id": "nF184hJLX2he"
      }
    },
    {
      "cell_type": "code",
      "source": [
        "\n",
        "values = [i for i in range(1, 51)]\n",
        "\n",
        "train_scores=[]\n",
        "test_scores=[]\n",
        "for k in values:\n",
        "  model_knn=Pipeline([\n",
        "    ('over sampling',SMOTE(random_state=0)), #  handling imbalance labels SMOTE over-sampling\n",
        "    ('knn',KNeighborsClassifier(n_neighbors=k,metric='cosine'))\n",
        "])\n",
        "  # configure the model\n",
        "  # fit model on the training dataset\n",
        "  model_knn.fit(X_train, y_train)\n",
        "  # evaluate on the train dataset\n",
        "  train_yhat = model_knn.predict(X_train)\n",
        "  train_acc = accuracy_score(y_train, train_yhat)\n",
        "  train_scores.append(train_acc)\n",
        "  # evaluate on the test dataset\n",
        "  test_yhat = model_knn.predict(X_test)\n",
        "  test_acc = accuracy_score(y_test, test_yhat)\n",
        "  test_scores.append(test_acc)\n",
        "  # summarize progress\n",
        "  print('>%d, train: %.3f, test: %.3f' % (k, train_acc, test_acc))\n",
        "# plot of train and test scores vs number of neighbors\n",
        "plt.plot(values, train_scores, '-o', label='Train')\n",
        "plt.plot(values, test_scores, '-o', label='Test')\n",
        "plt.legend()\n",
        "plt.show()"
      ],
      "metadata": {
        "colab": {
          "base_uri": "https://localhost:8080/",
          "height": 1000
        },
        "id": "hj5TY2zLVm0a",
        "outputId": "da9af825-038d-4c3e-af32-61dd03dd3416"
      },
      "execution_count": 51,
      "outputs": [
        {
          "output_type": "stream",
          "name": "stdout",
          "text": [
            ">1, train: 1.000, test: 0.978\n",
            ">2, train: 1.000, test: 0.979\n",
            ">3, train: 0.985, test: 0.963\n",
            ">4, train: 0.988, test: 0.971\n",
            ">5, train: 0.971, test: 0.952\n",
            ">6, train: 0.973, test: 0.957\n",
            ">7, train: 0.959, test: 0.943\n",
            ">8, train: 0.963, test: 0.946\n",
            ">9, train: 0.953, test: 0.939\n",
            ">10, train: 0.957, test: 0.940\n",
            ">11, train: 0.946, test: 0.936\n",
            ">12, train: 0.950, test: 0.939\n",
            ">13, train: 0.942, test: 0.931\n",
            ">14, train: 0.944, test: 0.933\n",
            ">15, train: 0.939, test: 0.926\n",
            ">16, train: 0.944, test: 0.933\n",
            ">17, train: 0.936, test: 0.923\n",
            ">18, train: 0.940, test: 0.928\n",
            ">19, train: 0.935, test: 0.923\n",
            ">20, train: 0.938, test: 0.930\n",
            ">21, train: 0.933, test: 0.921\n",
            ">22, train: 0.937, test: 0.926\n",
            ">23, train: 0.931, test: 0.920\n",
            ">24, train: 0.935, test: 0.926\n",
            ">25, train: 0.928, test: 0.920\n",
            ">26, train: 0.931, test: 0.924\n",
            ">27, train: 0.928, test: 0.912\n",
            ">28, train: 0.930, test: 0.917\n",
            ">29, train: 0.926, test: 0.909\n",
            ">30, train: 0.927, test: 0.911\n",
            ">31, train: 0.924, test: 0.906\n",
            ">32, train: 0.927, test: 0.909\n",
            ">33, train: 0.924, test: 0.908\n",
            ">34, train: 0.927, test: 0.909\n",
            ">35, train: 0.923, test: 0.906\n",
            ">36, train: 0.925, test: 0.910\n",
            ">37, train: 0.921, test: 0.907\n",
            ">38, train: 0.923, test: 0.910\n",
            ">39, train: 0.919, test: 0.905\n",
            ">40, train: 0.922, test: 0.911\n",
            ">41, train: 0.918, test: 0.908\n",
            ">42, train: 0.921, test: 0.909\n",
            ">43, train: 0.918, test: 0.906\n",
            ">44, train: 0.921, test: 0.910\n",
            ">45, train: 0.917, test: 0.906\n",
            ">46, train: 0.919, test: 0.910\n",
            ">47, train: 0.917, test: 0.906\n",
            ">48, train: 0.919, test: 0.908\n",
            ">49, train: 0.915, test: 0.901\n",
            ">50, train: 0.917, test: 0.903\n"
          ]
        },
        {
          "output_type": "display_data",
          "data": {
            "text/plain": [
              "<Figure size 640x480 with 1 Axes>"
            ],
            "image/png": "[encoded data removed]"
          },
          "metadata": {}
        }
      ]
    },
    {
      "cell_type": "markdown",
      "source": [
        "The models good not underfitt or overfitt"
      ],
      "metadata": {
        "id": "jYBDdSnlXKBx"
      }
    },
    {
      "cell_type": "markdown",
      "source": [
        "# Summary"
      ],
      "metadata": {
        "id": "_3D0p8g5Niko"
      }
    },
    {
      "cell_type": "code",
      "source": [
        "summary_df=pd.DataFrame([result_NB,result_knn,result_svm],index=['Naives bayes',\"K- nearest neighbor\",\"SVM\"])"
      ],
      "metadata": {
        "id": "XrL5ypSYNjSd"
      },
      "execution_count": 75,
      "outputs": []
    },
    {
      "cell_type": "code",
      "source": [
        "summary_df"
      ],
      "metadata": {
        "colab": {
          "base_uri": "https://localhost:8080/",
          "height": 143
        },
        "id": "v3aljRNTS8hl",
        "outputId": "f056b1ab-d380-41a7-d282-1ce3dea1ac9e"
      },
      "execution_count": 76,
      "outputs": [
        {
          "output_type": "execute_result",
          "data": {
            "text/plain": [
              "                      accuracy  precision    recall        f1\n",
              "Naives bayes         96.950673   0.968968  0.969507  0.969012\n",
              "K- nearest neighbor  95.246637   0.962460  0.952466  0.954893\n",
              "SVM                  98.385650   0.983749  0.983857  0.983640"
            ],
            "text/html": [
              "\n",
              "  <div id=\"df-4e244ff7-824b-424a-b6de-e3177a0d2b64\" class=\"colab-df-container\">\n",
              "    <div>\n",
              "<style scoped>\n",
              "    .dataframe tbody tr th:only-of-type {\n",
              "        vertical-align: middle;\n",
              "    }\n",
              "\n",
              "    .dataframe tbody tr th {\n",
              "        vertical-align: top;\n",
              "    }\n",
              "\n",
              "    .dataframe thead th {\n",
              "        text-align: right;\n",
              "    }\n",
              "</style>\n",
              "<table border=\"1\" class=\"dataframe\">\n",
              "  <thead>\n",
              "    <tr style=\"text-align: right;\">\n",
              "      <th></th>\n",
              "      <th>accuracy</th>\n",
              "      <th>precision</th>\n",
              "      <th>recall</th>\n",
              "      <th>f1</th>\n",
              "    </tr>\n",
              "  </thead>\n",
              "  <tbody>\n",
              "    <tr>\n",
              "      <th>Naives bayes</th>\n",
              "      <td>96.950673</td>\n",
              "      <td>0.968968</td>\n",
              "      <td>0.969507</td>\n",
              "      <td>0.969012</td>\n",
              "    </tr>\n",
              "    <tr>\n",
              "      <th>K- nearest neighbor</th>\n",
              "      <td>95.246637</td>\n",
              "      <td>0.962460</td>\n",
              "      <td>0.952466</td>\n",
              "      <td>0.954893</td>\n",
              "    </tr>\n",
              "    <tr>\n",
              "      <th>SVM</th>\n",
              "      <td>98.385650</td>\n",
              "      <td>0.983749</td>\n",
              "      <td>0.983857</td>\n",
              "      <td>0.983640</td>\n",
              "    </tr>\n",
              "  </tbody>\n",
              "</table>\n",
              "</div>\n",
              "    <div class=\"colab-df-buttons\">\n",
              "\n",
              "  <div class=\"colab-df-container\">\n",
              "    <button class=\"colab-df-convert\" onclick=\"convertToInteractive('df-4e244ff7-824b-424a-b6de-e3177a0d2b64')\"\n",
              "            title=\"Convert this dataframe to an interactive table.\"\n",
              "            style=\"display:none;\">\n",
              "\n",
              "  <svg xmlns=\"http://www.w3.org/2000/svg\" height=\"24px\" viewBox=\"0 -960 960 960\">\n",
              "    <path d=\"M120-120v-720h720v720H120Zm60-500h600v-160H180v160Zm220 220h160v-160H400v160Zm0 220h160v-160H400v160ZM180-400h160v-160H180v160Zm440 0h160v-160H620v160ZM180-180h160v-160H180v160Zm440 0h160v-160H620v160Z\"/>\n",
              "  </svg>\n",
              "    </button>\n",
              "\n",
              "  <style>\n",
              "    .colab-df-container {\n",
              "      display:flex;\n",
              "      gap: 12px;\n",
              "    }\n",
              "\n",
              "    .colab-df-convert {\n",
              "      background-color: #E8F0FE;\n",
              "      border: none;\n",
              "      border-radius: 50%;\n",
              "      cursor: pointer;\n",
              "      display: none;\n",
              "      fill: #1967D2;\n",
              "      height: 32px;\n",
              "      padding: 0 0 0 0;\n",
              "      width: 32px;\n",
              "    }\n",
              "\n",
              "    .colab-df-convert:hover {\n",
              "      background-color: #E2EBFA;\n",
              "      box-shadow: 0px 1px 2px rgba(60, 64, 67, 0.3), 0px 1px 3px 1px rgba(60, 64, 67, 0.15);\n",
              "      fill: #174EA6;\n",
              "    }\n",
              "\n",
              "    .colab-df-buttons div {\n",
              "      margin-bottom: 4px;\n",
              "    }\n",
              "\n",
              "    [theme=dark] .colab-df-convert {\n",
              "      background-color: #3B4455;\n",
              "      fill: #D2E3FC;\n",
              "    }\n",
              "\n",
              "    [theme=dark] .colab-df-convert:hover {\n",
              "      background-color: #434B5C;\n",
              "      box-shadow: 0px 1px 3px 1px rgba(0, 0, 0, 0.15);\n",
              "      filter: drop-shadow(0px 1px 2px rgba(0, 0, 0, 0.3));\n",
              "      fill: #FFFFFF;\n",
              "    }\n",
              "  </style>\n",
              "\n",
              "    <script>\n",
              "      const buttonEl =\n",
              "        document.querySelector('#df-4e244ff7-824b-424a-b6de-e3177a0d2b64 button.colab-df-convert');\n",
              "      buttonEl.style.display =\n",
              "        google.colab.kernel.accessAllowed ? 'block' : 'none';\n",
              "\n",
              "      async function convertToInteractive(key) {\n",
              "        const element = document.querySelector('#df-4e244ff7-824b-424a-b6de-e3177a0d2b64');\n",
              "        const dataTable =\n",
              "          await google.colab.kernel.invokeFunction('convertToInteractive',\n",
              "                                                    [key], {});\n",
              "        if (!dataTable) return;\n",
              "\n",
              "        const docLinkHtml = 'Like what you see? Visit the ' +\n",
              "          '<a target=\"_blank\" href=https://colab.research.google.com/notebooks/data_table.ipynb>data table notebook</a>'\n",
              "          + ' to learn more about interactive tables.';\n",
              "        element.innerHTML = '';\n",
              "        dataTable['output_type'] = 'display_data';\n",
              "        await google.colab.output.renderOutput(dataTable, element);\n",
              "        const docLink = document.createElement('div');\n",
              "        docLink.innerHTML = docLinkHtml;\n",
              "        element.appendChild(docLink);\n",
              "      }\n",
              "    </script>\n",
              "  </div>\n",
              "\n",
              "\n",
              "<div id=\"df-ceea6c78-7e6a-4883-85a9-142e2c94b976\">\n",
              "  <button class=\"colab-df-quickchart\" onclick=\"quickchart('df-ceea6c78-7e6a-4883-85a9-142e2c94b976')\"\n",
              "            title=\"Suggest charts.\"\n",
              "            style=\"display:none;\">\n",
              "\n",
              "<svg xmlns=\"http://www.w3.org/2000/svg\" height=\"24px\"viewBox=\"0 0 24 24\"\n",
              "     width=\"24px\">\n",
              "    <g>\n",
              "        <path d=\"M19 3H5c-1.1 0-2 .9-2 2v14c0 1.1.9 2 2 2h14c1.1 0 2-.9 2-2V5c0-1.1-.9-2-2-2zM9 17H7v-7h2v7zm4 0h-2V7h2v10zm4 0h-2v-4h2v4z\"/>\n",
              "    </g>\n",
              "</svg>\n",
              "  </button>\n",
              "\n",
              "<style>\n",
              "  .colab-df-quickchart {\n",
              "      --bg-color: #E8F0FE;\n",
              "      --fill-color: #1967D2;\n",
              "      --hover-bg-color: #E2EBFA;\n",
              "      --hover-fill-color: #174EA6;\n",
              "      --disabled-fill-color: #AAA;\n",
              "      --disabled-bg-color: #DDD;\n",
              "  }\n",
              "\n",
              "  [theme=dark] .colab-df-quickchart {\n",
              "      --bg-color: #3B4455;\n",
              "      --fill-color: #D2E3FC;\n",
              "      --hover-bg-color: #434B5C;\n",
              "      --hover-fill-color: #FFFFFF;\n",
              "      --disabled-bg-color: #3B4455;\n",
              "      --disabled-fill-color: #666;\n",
              "  }\n",
              "\n",
              "  .colab-df-quickchart {\n",
              "    background-color: var(--bg-color);\n",
              "    border: none;\n",
              "    border-radius: 50%;\n",
              "    cursor: pointer;\n",
              "    display: none;\n",
              "    fill: var(--fill-color);\n",
              "    height: 32px;\n",
              "    padding: 0;\n",
              "    width: 32px;\n",
              "  }\n",
              "\n",
              "  .colab-df-quickchart:hover {\n",
              "    background-color: var(--hover-bg-color);\n",
              "    box-shadow: 0 1px 2px rgba(60, 64, 67, 0.3), 0 1px 3px 1px rgba(60, 64, 67, 0.15);\n",
              "    fill: var(--button-hover-fill-color);\n",
              "  }\n",
              "\n",
              "  .colab-df-quickchart-complete:disabled,\n",
              "  .colab-df-quickchart-complete:disabled:hover {\n",
              "    background-color: var(--disabled-bg-color);\n",
              "    fill: var(--disabled-fill-color);\n",
              "    box-shadow: none;\n",
              "  }\n",
              "\n",
              "  .colab-df-spinner {\n",
              "    border: 2px solid var(--fill-color);\n",
              "    border-color: transparent;\n",
              "    border-bottom-color: var(--fill-color);\n",
              "    animation:\n",
              "      spin 1s steps(1) infinite;\n",
              "  }\n",
              "\n",
              "  @keyframes spin {\n",
              "    0% {\n",
              "      border-color: transparent;\n",
              "      border-bottom-color: var(--fill-color);\n",
              "      border-left-color: var(--fill-color);\n",
              "    }\n",
              "    20% {\n",
              "      border-color: transparent;\n",
              "      border-left-color: var(--fill-color);\n",
              "      border-top-color: var(--fill-color);\n",
              "    }\n",
              "    30% {\n",
              "      border-color: transparent;\n",
              "      border-left-color: var(--fill-color);\n",
              "      border-top-color: var(--fill-color);\n",
              "      border-right-color: var(--fill-color);\n",
              "    }\n",
              "    40% {\n",
              "      border-color: transparent;\n",
              "      border-right-color: var(--fill-color);\n",
              "      border-top-color: var(--fill-color);\n",
              "    }\n",
              "    60% {\n",
              "      border-color: transparent;\n",
              "      border-right-color: var(--fill-color);\n",
              "    }\n",
              "    80% {\n",
              "      border-color: transparent;\n",
              "      border-right-color: var(--fill-color);\n",
              "      border-bottom-color: var(--fill-color);\n",
              "    }\n",
              "    90% {\n",
              "      border-color: transparent;\n",
              "      border-bottom-color: var(--fill-color);\n",
              "    }\n",
              "  }\n",
              "</style>\n",
              "\n",
              "  <script>\n",
              "    async function quickchart(key) {\n",
              "      const quickchartButtonEl =\n",
              "        document.querySelector('#' + key + ' button');\n",
              "      quickchartButtonEl.disabled = true;  // To prevent multiple clicks.\n",
              "      quickchartButtonEl.classList.add('colab-df-spinner');\n",
              "      try {\n",
              "        const charts = await google.colab.kernel.invokeFunction(\n",
              "            'suggestCharts', [key], {});\n",
              "      } catch (error) {\n",
              "        console.error('Error during call to suggestCharts:', error);\n",
              "      }\n",
              "      quickchartButtonEl.classList.remove('colab-df-spinner');\n",
              "      quickchartButtonEl.classList.add('colab-df-quickchart-complete');\n",
              "    }\n",
              "    (() => {\n",
              "      let quickchartButtonEl =\n",
              "        document.querySelector('#df-ceea6c78-7e6a-4883-85a9-142e2c94b976 button');\n",
              "      quickchartButtonEl.style.display =\n",
              "        google.colab.kernel.accessAllowed ? 'block' : 'none';\n",
              "    })();\n",
              "  </script>\n",
              "</div>\n",
              "    </div>\n",
              "  </div>\n"
            ]
          },
          "metadata": {},
          "execution_count": 76
        }
      ]
    },
    {
      "cell_type": "code",
      "source": [
        "# Summary prediction\n",
        "Wrong_prediction_naivesBayes=(y_test!=model_predict_nb).sum()\n",
        "Correct_prediction_naivesBayes=(y_test==model_predict_nb).sum()\n",
        "\n",
        "Correct_prediction_knn=(y_test==model_predict).sum()\n",
        "Wrong_prediction_knn=(y_test!=model_predict).sum()\n",
        "\n",
        "Correct_prediction_svm=(y_test==model_predict_svm).sum()\n",
        "Wrong_prediction_svm=(y_test!=model_predict_svm).sum()"
      ],
      "metadata": {
        "id": "RGtH_TeZTgS1"
      },
      "execution_count": 77,
      "outputs": []
    },
    {
      "cell_type": "code",
      "source": [
        "summary_prediction_NB=pd.DataFrame([[Wrong_prediction_naivesBayes,Correct_prediction_naivesBayes]],index=[\"Naives bayes\"],columns=[\"Wrong prediction\",\"Correct prediction\"])\n",
        "summary_prediction_knn=pd.DataFrame([[Wrong_prediction_knn,Correct_prediction_knn]],index=[\"KNN\"],columns=[\"Wrong prediction\",\"Correct prediction\"])\n",
        "summary_prediction_SVM=pd.DataFrame([[Wrong_prediction_svm,Correct_prediction_svm]],index=[\"SVM\"],columns=[\"Wrong prediction\",\"Correct prediction\"])"
      ],
      "metadata": {
        "id": "D7M86ry_T78E"
      },
      "execution_count": 85,
      "outputs": []
    },
    {
      "cell_type": "code",
      "source": [
        "summary_all_prediction_model=pd.concat([summary_prediction_NB,summary_prediction_knn,summary_prediction_SVM]).reset_index().rename(columns={'index':\"Model\"})"
      ],
      "metadata": {
        "id": "TxbXBRzlUmQF"
      },
      "execution_count": 92,
      "outputs": []
    },
    {
      "cell_type": "code",
      "source": [
        "summary_all_prediction_model"
      ],
      "metadata": {
        "colab": {
          "base_uri": "https://localhost:8080/",
          "height": 143
        },
        "id": "owe0CqDKU24M",
        "outputId": "4ebcb731-0609-4b95-9654-db1e4342fe03"
      },
      "execution_count": 93,
      "outputs": [
        {
          "output_type": "execute_result",
          "data": {
            "text/plain": [
              "          Model  Wrong prediction  Correct prediction\n",
              "0  Naives bayes                34                1081\n",
              "1           KNN                53                1062\n",
              "2           SVM                18                1097"
            ],
            "text/html": [
              "\n",
              "  <div id=\"df-e5794d01-fdd9-4da4-8d47-219aa9148feb\" class=\"colab-df-container\">\n",
              "    <div>\n",
              "<style scoped>\n",
              "    .dataframe tbody tr th:only-of-type {\n",
              "        vertical-align: middle;\n",
              "    }\n",
              "\n",
              "    .dataframe tbody tr th {\n",
              "        vertical-align: top;\n",
              "    }\n",
              "\n",
              "    .dataframe thead th {\n",
              "        text-align: right;\n",
              "    }\n",
              "</style>\n",
              "<table border=\"1\" class=\"dataframe\">\n",
              "  <thead>\n",
              "    <tr style=\"text-align: right;\">\n",
              "      <th></th>\n",
              "      <th>Model</th>\n",
              "      <th>Wrong prediction</th>\n",
              "      <th>Correct prediction</th>\n",
              "    </tr>\n",
              "  </thead>\n",
              "  <tbody>\n",
              "    <tr>\n",
              "      <th>0</th>\n",
              "      <td>Naives bayes</td>\n",
              "      <td>34</td>\n",
              "      <td>1081</td>\n",
              "    </tr>\n",
              "    <tr>\n",
              "      <th>1</th>\n",
              "      <td>KNN</td>\n",
              "      <td>53</td>\n",
              "      <td>1062</td>\n",
              "    </tr>\n",
              "    <tr>\n",
              "      <th>2</th>\n",
              "      <td>SVM</td>\n",
              "      <td>18</td>\n",
              "      <td>1097</td>\n",
              "    </tr>\n",
              "  </tbody>\n",
              "</table>\n",
              "</div>\n",
              "    <div class=\"colab-df-buttons\">\n",
              "\n",
              "  <div class=\"colab-df-container\">\n",
              "    <button class=\"colab-df-convert\" onclick=\"convertToInteractive('df-e5794d01-fdd9-4da4-8d47-219aa9148feb')\"\n",
              "            title=\"Convert this dataframe to an interactive table.\"\n",
              "            style=\"display:none;\">\n",
              "\n",
              "  <svg xmlns=\"http://www.w3.org/2000/svg\" height=\"24px\" viewBox=\"0 -960 960 960\">\n",
              "    <path d=\"M120-120v-720h720v720H120Zm60-500h600v-160H180v160Zm220 220h160v-160H400v160Zm0 220h160v-160H400v160ZM180-400h160v-160H180v160Zm440 0h160v-160H620v160ZM180-180h160v-160H180v160Zm440 0h160v-160H620v160Z\"/>\n",
              "  </svg>\n",
              "    </button>\n",
              "\n",
              "  <style>\n",
              "    .colab-df-container {\n",
              "      display:flex;\n",
              "      gap: 12px;\n",
              "    }\n",
              "\n",
              "    .colab-df-convert {\n",
              "      background-color: #E8F0FE;\n",
              "      border: none;\n",
              "      border-radius: 50%;\n",
              "      cursor: pointer;\n",
              "      display: none;\n",
              "      fill: #1967D2;\n",
              "      height: 32px;\n",
              "      padding: 0 0 0 0;\n",
              "      width: 32px;\n",
              "    }\n",
              "\n",
              "    .colab-df-convert:hover {\n",
              "      background-color: #E2EBFA;\n",
              "      box-shadow: 0px 1px 2px rgba(60, 64, 67, 0.3), 0px 1px 3px 1px rgba(60, 64, 67, 0.15);\n",
              "      fill: #174EA6;\n",
              "    }\n",
              "\n",
              "    .colab-df-buttons div {\n",
              "      margin-bottom: 4px;\n",
              "    }\n",
              "\n",
              "    [theme=dark] .colab-df-convert {\n",
              "      background-color: #3B4455;\n",
              "      fill: #D2E3FC;\n",
              "    }\n",
              "\n",
              "    [theme=dark] .colab-df-convert:hover {\n",
              "      background-color: #434B5C;\n",
              "      box-shadow: 0px 1px 3px 1px rgba(0, 0, 0, 0.15);\n",
              "      filter: drop-shadow(0px 1px 2px rgba(0, 0, 0, 0.3));\n",
              "      fill: #FFFFFF;\n",
              "    }\n",
              "  </style>\n",
              "\n",
              "    <script>\n",
              "      const buttonEl =\n",
              "        document.querySelector('#df-e5794d01-fdd9-4da4-8d47-219aa9148feb button.colab-df-convert');\n",
              "      buttonEl.style.display =\n",
              "        google.colab.kernel.accessAllowed ? 'block' : 'none';\n",
              "\n",
              "      async function convertToInteractive(key) {\n",
              "        const element = document.querySelector('#df-e5794d01-fdd9-4da4-8d47-219aa9148feb');\n",
              "        const dataTable =\n",
              "          await google.colab.kernel.invokeFunction('convertToInteractive',\n",
              "                                                    [key], {});\n",
              "        if (!dataTable) return;\n",
              "\n",
              "        const docLinkHtml = 'Like what you see? Visit the ' +\n",
              "          '<a target=\"_blank\" href=https://colab.research.google.com/notebooks/data_table.ipynb>data table notebook</a>'\n",
              "          + ' to learn more about interactive tables.';\n",
              "        element.innerHTML = '';\n",
              "        dataTable['output_type'] = 'display_data';\n",
              "        await google.colab.output.renderOutput(dataTable, element);\n",
              "        const docLink = document.createElement('div');\n",
              "        docLink.innerHTML = docLinkHtml;\n",
              "        element.appendChild(docLink);\n",
              "      }\n",
              "    </script>\n",
              "  </div>\n",
              "\n",
              "\n",
              "<div id=\"df-90f15513-c2f9-43b1-9409-9fdc6b7a09d9\">\n",
              "  <button class=\"colab-df-quickchart\" onclick=\"quickchart('df-90f15513-c2f9-43b1-9409-9fdc6b7a09d9')\"\n",
              "            title=\"Suggest charts.\"\n",
              "            style=\"display:none;\">\n",
              "\n",
              "<svg xmlns=\"http://www.w3.org/2000/svg\" height=\"24px\"viewBox=\"0 0 24 24\"\n",
              "     width=\"24px\">\n",
              "    <g>\n",
              "        <path d=\"M19 3H5c-1.1 0-2 .9-2 2v14c0 1.1.9 2 2 2h14c1.1 0 2-.9 2-2V5c0-1.1-.9-2-2-2zM9 17H7v-7h2v7zm4 0h-2V7h2v10zm4 0h-2v-4h2v4z\"/>\n",
              "    </g>\n",
              "</svg>\n",
              "  </button>\n",
              "\n",
              "<style>\n",
              "  .colab-df-quickchart {\n",
              "      --bg-color: #E8F0FE;\n",
              "      --fill-color: #1967D2;\n",
              "      --hover-bg-color: #E2EBFA;\n",
              "      --hover-fill-color: #174EA6;\n",
              "      --disabled-fill-color: #AAA;\n",
              "      --disabled-bg-color: #DDD;\n",
              "  }\n",
              "\n",
              "  [theme=dark] .colab-df-quickchart {\n",
              "      --bg-color: #3B4455;\n",
              "      --fill-color: #D2E3FC;\n",
              "      --hover-bg-color: #434B5C;\n",
              "      --hover-fill-color: #FFFFFF;\n",
              "      --disabled-bg-color: #3B4455;\n",
              "      --disabled-fill-color: #666;\n",
              "  }\n",
              "\n",
              "  .colab-df-quickchart {\n",
              "    background-color: var(--bg-color);\n",
              "    border: none;\n",
              "    border-radius: 50%;\n",
              "    cursor: pointer;\n",
              "    display: none;\n",
              "    fill: var(--fill-color);\n",
              "    height: 32px;\n",
              "    padding: 0;\n",
              "    width: 32px;\n",
              "  }\n",
              "\n",
              "  .colab-df-quickchart:hover {\n",
              "    background-color: var(--hover-bg-color);\n",
              "    box-shadow: 0 1px 2px rgba(60, 64, 67, 0.3), 0 1px 3px 1px rgba(60, 64, 67, 0.15);\n",
              "    fill: var(--button-hover-fill-color);\n",
              "  }\n",
              "\n",
              "  .colab-df-quickchart-complete:disabled,\n",
              "  .colab-df-quickchart-complete:disabled:hover {\n",
              "    background-color: var(--disabled-bg-color);\n",
              "    fill: var(--disabled-fill-color);\n",
              "    box-shadow: none;\n",
              "  }\n",
              "\n",
              "  .colab-df-spinner {\n",
              "    border: 2px solid var(--fill-color);\n",
              "    border-color: transparent;\n",
              "    border-bottom-color: var(--fill-color);\n",
              "    animation:\n",
              "      spin 1s steps(1) infinite;\n",
              "  }\n",
              "\n",
              "  @keyframes spin {\n",
              "    0% {\n",
              "      border-color: transparent;\n",
              "      border-bottom-color: var(--fill-color);\n",
              "      border-left-color: var(--fill-color);\n",
              "    }\n",
              "    20% {\n",
              "      border-color: transparent;\n",
              "      border-left-color: var(--fill-color);\n",
              "      border-top-color: var(--fill-color);\n",
              "    }\n",
              "    30% {\n",
              "      border-color: transparent;\n",
              "      border-left-color: var(--fill-color);\n",
              "      border-top-color: var(--fill-color);\n",
              "      border-right-color: var(--fill-color);\n",
              "    }\n",
              "    40% {\n",
              "      border-color: transparent;\n",
              "      border-right-color: var(--fill-color);\n",
              "      border-top-color: var(--fill-color);\n",
              "    }\n",
              "    60% {\n",
              "      border-color: transparent;\n",
              "      border-right-color: var(--fill-color);\n",
              "    }\n",
              "    80% {\n",
              "      border-color: transparent;\n",
              "      border-right-color: var(--fill-color);\n",
              "      border-bottom-color: var(--fill-color);\n",
              "    }\n",
              "    90% {\n",
              "      border-color: transparent;\n",
              "      border-bottom-color: var(--fill-color);\n",
              "    }\n",
              "  }\n",
              "</style>\n",
              "\n",
              "  <script>\n",
              "    async function quickchart(key) {\n",
              "      const quickchartButtonEl =\n",
              "        document.querySelector('#' + key + ' button');\n",
              "      quickchartButtonEl.disabled = true;  // To prevent multiple clicks.\n",
              "      quickchartButtonEl.classList.add('colab-df-spinner');\n",
              "      try {\n",
              "        const charts = await google.colab.kernel.invokeFunction(\n",
              "            'suggestCharts', [key], {});\n",
              "      } catch (error) {\n",
              "        console.error('Error during call to suggestCharts:', error);\n",
              "      }\n",
              "      quickchartButtonEl.classList.remove('colab-df-spinner');\n",
              "      quickchartButtonEl.classList.add('colab-df-quickchart-complete');\n",
              "    }\n",
              "    (() => {\n",
              "      let quickchartButtonEl =\n",
              "        document.querySelector('#df-90f15513-c2f9-43b1-9409-9fdc6b7a09d9 button');\n",
              "      quickchartButtonEl.style.display =\n",
              "        google.colab.kernel.accessAllowed ? 'block' : 'none';\n",
              "    })();\n",
              "  </script>\n",
              "</div>\n",
              "    </div>\n",
              "  </div>\n"
            ]
          },
          "metadata": {},
          "execution_count": 93
        }
      ]
    },
    {
      "cell_type": "code",
      "source": [
        "plt.pie(summary_all_prediction_model['Correct prediction'],labels=summary_all_prediction_model.Model.unique(),autopct='%1.1f%%',startangle=140);\n",
        "plt.title('Summary Correct prediction')\n",
        "plt.show()"
      ],
      "metadata": {
        "colab": {
          "base_uri": "https://localhost:8080/",
          "height": 429
        },
        "id": "DG1LsnOpVEyc",
        "outputId": "bdb23af3-3d64-483f-bf42-7ae35b36edaa"
      },
      "execution_count": 101,
      "outputs": [
        {
          "output_type": "display_data",
          "data": {
            "text/plain": [
              "<Figure size 640x480 with 1 Axes>"
            ],
            "image/png": "[encoded data removed]"
          },
          "metadata": {}
        }
      ]
    },
    {
      "cell_type": "code",
      "source": [
        "plt.pie(summary_all_prediction_model['Wrong prediction'],labels=summary_all_prediction_model.Model.unique(),autopct='%1.1f%%',startangle=140);\n",
        "plt.title('Summary Wrong prediction')\n",
        "plt.show()"
      ],
      "metadata": {
        "colab": {
          "base_uri": "https://localhost:8080/",
          "height": 429
        },
        "id": "fgSUjL-bVZjd",
        "outputId": "112efb04-efaa-443f-bc2f-365b18b06159"
      },
      "execution_count": 104,
      "outputs": [
        {
          "output_type": "display_data",
          "data": {
            "text/plain": [
              "<Figure size 640x480 with 1 Axes>"
            ],
            "image/png": "[encoded data removed]"
          },
          "metadata": {}
        }
      ]
    },
    {
      "cell_type": "markdown",
      "source": [
        "**OBSERVATION** <br>\n",
        "Pie chart Correct prediction <br>\n",
        "*   SVM 33.9 %\n",
        "*   Naives bayes 33.4 %\n",
        "*   KNN 32.8 %\n",
        "\n",
        "Pie chart Wrong prediction <br>\n",
        "*   SVM 17.1 %\n",
        "*   Naives bayes 32.4 %\n",
        "*   KNN 50.5 %"
      ],
      "metadata": {
        "id": "6aOgrN6vV2b8"
      }
    },
    {
      "cell_type": "markdown",
      "source": [
        "**Summary** <br>\n",
        "* KNN has most wrong prediction instead SVM and Naives bayes\n",
        "* SVM has most correct prediction instead KNN and Naives bayes\n"
      ],
      "metadata": {
        "id": "9XIwfE8qWcKW"
      }
    }
  ]
}